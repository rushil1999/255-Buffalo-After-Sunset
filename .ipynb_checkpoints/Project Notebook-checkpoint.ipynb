{
 "cells": [
  {
   "cell_type": "markdown",
   "id": "3df2b604",
   "metadata": {},
   "source": [
    "## Buffalo Crime visualizer"
   ]
  },
  {
   "cell_type": "code",
   "execution_count": 1,
   "id": "045a005d",
   "metadata": {},
   "outputs": [],
   "source": [
    "import pandas as pd\n",
    "import numpy as np"
   ]
  },
  {
   "cell_type": "code",
   "execution_count": 2,
   "id": "a5e84fc3",
   "metadata": {},
   "outputs": [
    {
     "data": {
      "text/html": [
       "<div>\n",
       "<style scoped>\n",
       "    .dataframe tbody tr th:only-of-type {\n",
       "        vertical-align: middle;\n",
       "    }\n",
       "\n",
       "    .dataframe tbody tr th {\n",
       "        vertical-align: top;\n",
       "    }\n",
       "\n",
       "    .dataframe thead th {\n",
       "        text-align: right;\n",
       "    }\n",
       "</style>\n",
       "<table border=\"1\" class=\"dataframe\">\n",
       "  <thead>\n",
       "    <tr style=\"text-align: right;\">\n",
       "      <th></th>\n",
       "      <th>Case Number</th>\n",
       "      <th>Incident Datetime</th>\n",
       "      <th>Incident ID</th>\n",
       "      <th>Incident Type Primary</th>\n",
       "      <th>Incident Description</th>\n",
       "      <th>Parent Incident Type</th>\n",
       "      <th>Hour of Day</th>\n",
       "      <th>Day of Week</th>\n",
       "      <th>Address</th>\n",
       "      <th>City</th>\n",
       "      <th>...</th>\n",
       "      <th>Census Tract</th>\n",
       "      <th>Census Block</th>\n",
       "      <th>Census Block Group</th>\n",
       "      <th>Neighborhood</th>\n",
       "      <th>Police District</th>\n",
       "      <th>Council District</th>\n",
       "      <th>TRACTCE20</th>\n",
       "      <th>GEOID20_tract</th>\n",
       "      <th>GEOID20_blockgroup</th>\n",
       "      <th>GEOID20_block</th>\n",
       "    </tr>\n",
       "  </thead>\n",
       "  <tbody>\n",
       "    <tr>\n",
       "      <th>0</th>\n",
       "      <td>22-0140612</td>\n",
       "      <td>01/14/2022 04:59:35 PM</td>\n",
       "      <td>NaN</td>\n",
       "      <td>LARCENY/THEFT</td>\n",
       "      <td>Buffalo Police are investigating this report o...</td>\n",
       "      <td>Theft</td>\n",
       "      <td>17</td>\n",
       "      <td>FRIDAY</td>\n",
       "      <td>100 Block BECK ST</td>\n",
       "      <td>Buffalo</td>\n",
       "      <td>...</td>\n",
       "      <td>27.03</td>\n",
       "      <td>1012</td>\n",
       "      <td>1</td>\n",
       "      <td>Broadway Fillmore</td>\n",
       "      <td>District C</td>\n",
       "      <td>FILLMORE</td>\n",
       "      <td>002703</td>\n",
       "      <td>36029002703</td>\n",
       "      <td>360290027031</td>\n",
       "      <td>360290027031012</td>\n",
       "    </tr>\n",
       "    <tr>\n",
       "      <th>1</th>\n",
       "      <td>22-0140323</td>\n",
       "      <td>01/14/2022 11:32:00 AM</td>\n",
       "      <td>NaN</td>\n",
       "      <td>ASSAULT</td>\n",
       "      <td>Buffalo Police are investigating this report o...</td>\n",
       "      <td>Assault</td>\n",
       "      <td>11</td>\n",
       "      <td>FRIDAY</td>\n",
       "      <td>400 Block NIAGARA ST</td>\n",
       "      <td>Buffalo</td>\n",
       "      <td>...</td>\n",
       "      <td>71.04</td>\n",
       "      <td>1004</td>\n",
       "      <td>1</td>\n",
       "      <td>Lower West Side</td>\n",
       "      <td>District B</td>\n",
       "      <td>ELLICOTT</td>\n",
       "      <td>007104</td>\n",
       "      <td>36029007104</td>\n",
       "      <td>360290071041</td>\n",
       "      <td>360290071041004</td>\n",
       "    </tr>\n",
       "    <tr>\n",
       "      <th>2</th>\n",
       "      <td>22-0140257</td>\n",
       "      <td>01/14/2022 10:35:02 AM</td>\n",
       "      <td>NaN</td>\n",
       "      <td>ASSAULT</td>\n",
       "      <td>Buffalo Police are investigating this report o...</td>\n",
       "      <td>Assault</td>\n",
       "      <td>10</td>\n",
       "      <td>FRIDAY</td>\n",
       "      <td>2300 Block SENECA ST</td>\n",
       "      <td>Buffalo</td>\n",
       "      <td>...</td>\n",
       "      <td>10</td>\n",
       "      <td>1004</td>\n",
       "      <td>1</td>\n",
       "      <td>Seneca-Cazenovia</td>\n",
       "      <td>District A</td>\n",
       "      <td>SOUTH</td>\n",
       "      <td>001000</td>\n",
       "      <td>36029001000</td>\n",
       "      <td>360290010001</td>\n",
       "      <td>360290010001004</td>\n",
       "    </tr>\n",
       "    <tr>\n",
       "      <th>3</th>\n",
       "      <td>22-0160894</td>\n",
       "      <td>01/16/2022 11:01:36 PM</td>\n",
       "      <td>NaN</td>\n",
       "      <td>ASSAULT</td>\n",
       "      <td>Buffalo Police are investigating this report o...</td>\n",
       "      <td>Assault</td>\n",
       "      <td>23</td>\n",
       "      <td>SUNDAY</td>\n",
       "      <td>0 Block THEODORE ST</td>\n",
       "      <td>Buffalo</td>\n",
       "      <td>...</td>\n",
       "      <td>37</td>\n",
       "      <td>2006</td>\n",
       "      <td>2</td>\n",
       "      <td>Schiller Park</td>\n",
       "      <td>District C</td>\n",
       "      <td>LOVEJOY</td>\n",
       "      <td>003700</td>\n",
       "      <td>36029003700</td>\n",
       "      <td>360290037002</td>\n",
       "      <td>360290037002006</td>\n",
       "    </tr>\n",
       "    <tr>\n",
       "      <th>4</th>\n",
       "      <td>22-0190051</td>\n",
       "      <td>01/19/2022 02:16:00 AM</td>\n",
       "      <td>NaN</td>\n",
       "      <td>ROBBERY</td>\n",
       "      <td>Buffalo Police are investigating this report o...</td>\n",
       "      <td>Robbery</td>\n",
       "      <td>2</td>\n",
       "      <td>WEDNESDAY</td>\n",
       "      <td>FULTON ST &amp; CHERRY ST</td>\n",
       "      <td>Buffalo</td>\n",
       "      <td>...</td>\n",
       "      <td>164</td>\n",
       "      <td>1003</td>\n",
       "      <td>1</td>\n",
       "      <td>Ellicott</td>\n",
       "      <td>District A</td>\n",
       "      <td>FILLMORE</td>\n",
       "      <td>016400</td>\n",
       "      <td>36029016400</td>\n",
       "      <td>360290164001</td>\n",
       "      <td>360290164001003</td>\n",
       "    </tr>\n",
       "    <tr>\n",
       "      <th>...</th>\n",
       "      <td>...</td>\n",
       "      <td>...</td>\n",
       "      <td>...</td>\n",
       "      <td>...</td>\n",
       "      <td>...</td>\n",
       "      <td>...</td>\n",
       "      <td>...</td>\n",
       "      <td>...</td>\n",
       "      <td>...</td>\n",
       "      <td>...</td>\n",
       "      <td>...</td>\n",
       "      <td>...</td>\n",
       "      <td>...</td>\n",
       "      <td>...</td>\n",
       "      <td>...</td>\n",
       "      <td>...</td>\n",
       "      <td>...</td>\n",
       "      <td>...</td>\n",
       "      <td>...</td>\n",
       "      <td>...</td>\n",
       "      <td>...</td>\n",
       "    </tr>\n",
       "    <tr>\n",
       "      <th>280545</th>\n",
       "      <td>17-0660656</td>\n",
       "      <td>03/05/2017 12:00:00 AM</td>\n",
       "      <td>NaN</td>\n",
       "      <td>ASSAULT</td>\n",
       "      <td>Buffalo Police are investigating this report o...</td>\n",
       "      <td>Assault</td>\n",
       "      <td>0</td>\n",
       "      <td>Sunday</td>\n",
       "      <td>100 Block SCHUTRUM ST</td>\n",
       "      <td>BUFFALO</td>\n",
       "      <td>...</td>\n",
       "      <td>28.01</td>\n",
       "      <td>1000</td>\n",
       "      <td>1</td>\n",
       "      <td>Genesee-Moselle</td>\n",
       "      <td>District C</td>\n",
       "      <td>FILLMORE</td>\n",
       "      <td>002801</td>\n",
       "      <td>36029002801</td>\n",
       "      <td>360290001101</td>\n",
       "      <td>360290035021000</td>\n",
       "    </tr>\n",
       "    <tr>\n",
       "      <th>280546</th>\n",
       "      <td>13-1160241</td>\n",
       "      <td>04/26/2013 09:52:00 AM</td>\n",
       "      <td>NaN</td>\n",
       "      <td>ROBBERY</td>\n",
       "      <td>Buffalo Police are investigating this report o...</td>\n",
       "      <td>Robbery</td>\n",
       "      <td>9</td>\n",
       "      <td>Friday</td>\n",
       "      <td>1000 Block ELMWOOD AV</td>\n",
       "      <td>BUFFALO</td>\n",
       "      <td>...</td>\n",
       "      <td>63.01</td>\n",
       "      <td>1003</td>\n",
       "      <td>1</td>\n",
       "      <td>Elmwood Bidwell</td>\n",
       "      <td>District D</td>\n",
       "      <td>NORTH</td>\n",
       "      <td>006301</td>\n",
       "      <td>36029006301</td>\n",
       "      <td>360290001101</td>\n",
       "      <td>360290035021003</td>\n",
       "    </tr>\n",
       "    <tr>\n",
       "      <th>280547</th>\n",
       "      <td>11-1260639</td>\n",
       "      <td>04/30/2011 04:22:00 PM</td>\n",
       "      <td>NaN</td>\n",
       "      <td>LARCENY/THEFT</td>\n",
       "      <td>Buffalo Police are investigating this report o...</td>\n",
       "      <td>Theft</td>\n",
       "      <td>16</td>\n",
       "      <td>Saturday</td>\n",
       "      <td>1000 Block E LOVEJOY ST</td>\n",
       "      <td>BUFFALO</td>\n",
       "      <td>...</td>\n",
       "      <td>23</td>\n",
       "      <td>4001</td>\n",
       "      <td>4</td>\n",
       "      <td>Lovejoy</td>\n",
       "      <td>District C</td>\n",
       "      <td>LOVEJOY</td>\n",
       "      <td>002300</td>\n",
       "      <td>36029002300</td>\n",
       "      <td>360290002004</td>\n",
       "      <td>360290034004001</td>\n",
       "    </tr>\n",
       "    <tr>\n",
       "      <th>280548</th>\n",
       "      <td>20-1750745</td>\n",
       "      <td>06/22/2020 11:10:00 AM</td>\n",
       "      <td>NaN</td>\n",
       "      <td>LARCENY/THEFT</td>\n",
       "      <td>Buffalo Police are investigating this report o...</td>\n",
       "      <td>Theft</td>\n",
       "      <td>18</td>\n",
       "      <td>TUESDAY</td>\n",
       "      <td>0 Block CELTIC PL</td>\n",
       "      <td>Buffalo</td>\n",
       "      <td>...</td>\n",
       "      <td>33.02</td>\n",
       "      <td>2004</td>\n",
       "      <td>2</td>\n",
       "      <td>Masten Park</td>\n",
       "      <td>District C</td>\n",
       "      <td>MASTEN</td>\n",
       "      <td>003302</td>\n",
       "      <td>36029003302</td>\n",
       "      <td>360290001102</td>\n",
       "      <td>360290165002004</td>\n",
       "    </tr>\n",
       "    <tr>\n",
       "      <th>280549</th>\n",
       "      <td>20-0940139</td>\n",
       "      <td>04/03/2020 05:55:00 AM</td>\n",
       "      <td>NaN</td>\n",
       "      <td>LARCENY/THEFT</td>\n",
       "      <td>Buffalo Police are investigating this report o...</td>\n",
       "      <td>Theft</td>\n",
       "      <td>6</td>\n",
       "      <td>FRIDAY</td>\n",
       "      <td>2000 Block DELAWARE AV</td>\n",
       "      <td>Buffalo</td>\n",
       "      <td>...</td>\n",
       "      <td>54</td>\n",
       "      <td>2006</td>\n",
       "      <td>2</td>\n",
       "      <td>Parkside</td>\n",
       "      <td>District D</td>\n",
       "      <td>NORTH</td>\n",
       "      <td>005400</td>\n",
       "      <td>36029005400</td>\n",
       "      <td>360290001102</td>\n",
       "      <td>360290163002006</td>\n",
       "    </tr>\n",
       "  </tbody>\n",
       "</table>\n",
       "<p>280550 rows × 29 columns</p>\n",
       "</div>"
      ],
      "text/plain": [
       "       Case Number       Incident Datetime  Incident ID Incident Type Primary  \\\n",
       "0       22-0140612  01/14/2022 04:59:35 PM          NaN         LARCENY/THEFT   \n",
       "1       22-0140323  01/14/2022 11:32:00 AM          NaN               ASSAULT   \n",
       "2       22-0140257  01/14/2022 10:35:02 AM          NaN               ASSAULT   \n",
       "3       22-0160894  01/16/2022 11:01:36 PM          NaN               ASSAULT   \n",
       "4       22-0190051  01/19/2022 02:16:00 AM          NaN               ROBBERY   \n",
       "...            ...                     ...          ...                   ...   \n",
       "280545  17-0660656  03/05/2017 12:00:00 AM          NaN               ASSAULT   \n",
       "280546  13-1160241  04/26/2013 09:52:00 AM          NaN               ROBBERY   \n",
       "280547  11-1260639  04/30/2011 04:22:00 PM          NaN         LARCENY/THEFT   \n",
       "280548  20-1750745  06/22/2020 11:10:00 AM          NaN         LARCENY/THEFT   \n",
       "280549  20-0940139  04/03/2020 05:55:00 AM          NaN         LARCENY/THEFT   \n",
       "\n",
       "                                     Incident Description  \\\n",
       "0       Buffalo Police are investigating this report o...   \n",
       "1       Buffalo Police are investigating this report o...   \n",
       "2       Buffalo Police are investigating this report o...   \n",
       "3       Buffalo Police are investigating this report o...   \n",
       "4       Buffalo Police are investigating this report o...   \n",
       "...                                                   ...   \n",
       "280545  Buffalo Police are investigating this report o...   \n",
       "280546  Buffalo Police are investigating this report o...   \n",
       "280547  Buffalo Police are investigating this report o...   \n",
       "280548  Buffalo Police are investigating this report o...   \n",
       "280549  Buffalo Police are investigating this report o...   \n",
       "\n",
       "       Parent Incident Type  Hour of Day Day of Week                  Address  \\\n",
       "0                     Theft           17      FRIDAY        100 Block BECK ST   \n",
       "1                   Assault           11      FRIDAY     400 Block NIAGARA ST   \n",
       "2                   Assault           10      FRIDAY     2300 Block SENECA ST   \n",
       "3                   Assault           23      SUNDAY      0 Block THEODORE ST   \n",
       "4                   Robbery            2   WEDNESDAY    FULTON ST & CHERRY ST   \n",
       "...                     ...          ...         ...                      ...   \n",
       "280545              Assault            0      Sunday    100 Block SCHUTRUM ST   \n",
       "280546              Robbery            9      Friday    1000 Block ELMWOOD AV   \n",
       "280547                Theft           16    Saturday  1000 Block E LOVEJOY ST   \n",
       "280548                Theft           18     TUESDAY        0 Block CELTIC PL   \n",
       "280549                Theft            6      FRIDAY   2000 Block DELAWARE AV   \n",
       "\n",
       "           City  ... Census Tract Census Block  Census Block Group  \\\n",
       "0       Buffalo  ...        27.03         1012                   1   \n",
       "1       Buffalo  ...        71.04         1004                   1   \n",
       "2       Buffalo  ...           10         1004                   1   \n",
       "3       Buffalo  ...           37         2006                   2   \n",
       "4       Buffalo  ...          164         1003                   1   \n",
       "...         ...  ...          ...          ...                 ...   \n",
       "280545  BUFFALO  ...        28.01         1000                   1   \n",
       "280546  BUFFALO  ...        63.01         1003                   1   \n",
       "280547  BUFFALO  ...           23         4001                   4   \n",
       "280548  Buffalo  ...        33.02         2004                   2   \n",
       "280549  Buffalo  ...           54         2006                   2   \n",
       "\n",
       "             Neighborhood Police District  Council District TRACTCE20  \\\n",
       "0       Broadway Fillmore      District C          FILLMORE    002703   \n",
       "1         Lower West Side      District B          ELLICOTT    007104   \n",
       "2        Seneca-Cazenovia      District A             SOUTH    001000   \n",
       "3           Schiller Park      District C           LOVEJOY    003700   \n",
       "4                Ellicott      District A          FILLMORE    016400   \n",
       "...                   ...             ...               ...       ...   \n",
       "280545    Genesee-Moselle      District C          FILLMORE    002801   \n",
       "280546    Elmwood Bidwell      District D             NORTH    006301   \n",
       "280547            Lovejoy      District C           LOVEJOY    002300   \n",
       "280548        Masten Park      District C            MASTEN    003302   \n",
       "280549           Parkside      District D             NORTH    005400   \n",
       "\n",
       "       GEOID20_tract GEOID20_blockgroup    GEOID20_block  \n",
       "0        36029002703       360290027031  360290027031012  \n",
       "1        36029007104       360290071041  360290071041004  \n",
       "2        36029001000       360290010001  360290010001004  \n",
       "3        36029003700       360290037002  360290037002006  \n",
       "4        36029016400       360290164001  360290164001003  \n",
       "...              ...                ...              ...  \n",
       "280545   36029002801       360290001101  360290035021000  \n",
       "280546   36029006301       360290001101  360290035021003  \n",
       "280547   36029002300       360290002004  360290034004001  \n",
       "280548   36029003302       360290001102  360290165002004  \n",
       "280549   36029005400       360290001102  360290163002006  \n",
       "\n",
       "[280550 rows x 29 columns]"
      ]
     },
     "execution_count": 2,
     "metadata": {},
     "output_type": "execute_result"
    }
   ],
   "source": [
    "import pandas as pd\n",
    "\n",
    "data = pd.read_csv(r'C:\\Users\\91767\\Documents\\Python Scripts\\Data Mining\\Project\\Crime_Incidents.csv')\n",
    "data"
   ]
  },
  {
   "cell_type": "code",
   "execution_count": 3,
   "id": "7382dd5e",
   "metadata": {},
   "outputs": [
    {
     "data": {
      "text/plain": [
       "Case Number                     0\n",
       "Incident Datetime               5\n",
       "Incident ID                280550\n",
       "Incident Type Primary           0\n",
       "Incident Description            0\n",
       "Parent Incident Type            0\n",
       "Hour of Day                     0\n",
       "Day of Week                     5\n",
       "Address                        39\n",
       "City                            0\n",
       "State                           0\n",
       "Location                     1365\n",
       "Latitude                     1365\n",
       "Longitude                    1365\n",
       "Created At                      0\n",
       "updated_at                 280550\n",
       "2010 Census Tract             937\n",
       "2010 Census Block Group       937\n",
       "2010 Census Block             937\n",
       "Census Tract                  937\n",
       "Census Block                  937\n",
       "Census Block Group            937\n",
       "Neighborhood                  937\n",
       "Police District               937\n",
       "Council District              937\n",
       "TRACTCE20                     800\n",
       "GEOID20_tract                 800\n",
       "GEOID20_blockgroup            800\n",
       "GEOID20_block                 800\n",
       "dtype: int64"
      ]
     },
     "execution_count": 3,
     "metadata": {},
     "output_type": "execute_result"
    }
   ],
   "source": [
    "data.isna().sum() #dropping all the null values"
   ]
  },
  {
   "cell_type": "code",
   "execution_count": 4,
   "id": "2d4affd4",
   "metadata": {},
   "outputs": [
    {
     "data": {
      "text/plain": [
       "Case Number                   0\n",
       "Incident Datetime             5\n",
       "Incident Type Primary         0\n",
       "Incident Description          0\n",
       "Parent Incident Type          0\n",
       "Hour of Day                   0\n",
       "Day of Week                   5\n",
       "Address                      39\n",
       "City                          0\n",
       "State                         0\n",
       "Location                   1365\n",
       "Latitude                   1365\n",
       "Longitude                  1365\n",
       "Created At                    0\n",
       "2010 Census Tract           937\n",
       "2010 Census Block Group     937\n",
       "2010 Census Block           937\n",
       "Census Tract                937\n",
       "Census Block                937\n",
       "Census Block Group          937\n",
       "Neighborhood                937\n",
       "Police District             937\n",
       "Council District            937\n",
       "TRACTCE20                   800\n",
       "GEOID20_tract               800\n",
       "GEOID20_blockgroup          800\n",
       "GEOID20_block               800\n",
       "dtype: int64"
      ]
     },
     "execution_count": 4,
     "metadata": {},
     "output_type": "execute_result"
    }
   ],
   "source": [
    "#dropping Incident Id and Updated_at colummns as they have only null values\n",
    "data = data.drop(columns = ['Incident ID', 'updated_at'], axis = 1)\n",
    "data.isna().sum()"
   ]
  },
  {
   "cell_type": "code",
   "execution_count": 5,
   "id": "b9169177",
   "metadata": {},
   "outputs": [
    {
     "data": {
      "text/plain": [
       "Case Number                0\n",
       "Incident Datetime          0\n",
       "Incident Type Primary      0\n",
       "Incident Description       0\n",
       "Parent Incident Type       0\n",
       "Hour of Day                0\n",
       "Day of Week                0\n",
       "Address                    0\n",
       "City                       0\n",
       "State                      0\n",
       "Location                   0\n",
       "Latitude                   0\n",
       "Longitude                  0\n",
       "Created At                 0\n",
       "2010 Census Tract          0\n",
       "2010 Census Block Group    0\n",
       "2010 Census Block          0\n",
       "Census Tract               0\n",
       "Census Block               0\n",
       "Census Block Group         0\n",
       "Neighborhood               0\n",
       "Police District            0\n",
       "Council District           0\n",
       "TRACTCE20                  0\n",
       "GEOID20_tract              0\n",
       "GEOID20_blockgroup         0\n",
       "GEOID20_block              0\n",
       "dtype: int64"
      ]
     },
     "execution_count": 5,
     "metadata": {},
     "output_type": "execute_result"
    }
   ],
   "source": [
    "#dropping all the null values from the dataset\n",
    "data = data.dropna()\n",
    "data.isna().sum()"
   ]
  },
  {
   "cell_type": "code",
   "execution_count": 7,
   "id": "701faeaa",
   "metadata": {},
   "outputs": [
    {
     "data": {
      "text/html": [
       "<div>\n",
       "<style scoped>\n",
       "    .dataframe tbody tr th:only-of-type {\n",
       "        vertical-align: middle;\n",
       "    }\n",
       "\n",
       "    .dataframe tbody tr th {\n",
       "        vertical-align: top;\n",
       "    }\n",
       "\n",
       "    .dataframe thead th {\n",
       "        text-align: right;\n",
       "    }\n",
       "</style>\n",
       "<table border=\"1\" class=\"dataframe\">\n",
       "  <thead>\n",
       "    <tr style=\"text-align: right;\">\n",
       "      <th></th>\n",
       "      <th>Case Number</th>\n",
       "      <th>Incident Datetime</th>\n",
       "      <th>Incident Type Primary</th>\n",
       "      <th>Incident Description</th>\n",
       "      <th>Parent Incident Type</th>\n",
       "      <th>Hour of Day</th>\n",
       "      <th>Day of Week</th>\n",
       "      <th>Address</th>\n",
       "      <th>City</th>\n",
       "      <th>State</th>\n",
       "      <th>...</th>\n",
       "      <th>Census Tract</th>\n",
       "      <th>Census Block</th>\n",
       "      <th>Census Block Group</th>\n",
       "      <th>Neighborhood</th>\n",
       "      <th>Police District</th>\n",
       "      <th>Council District</th>\n",
       "      <th>TRACTCE20</th>\n",
       "      <th>GEOID20_tract</th>\n",
       "      <th>GEOID20_blockgroup</th>\n",
       "      <th>GEOID20_block</th>\n",
       "    </tr>\n",
       "  </thead>\n",
       "  <tbody>\n",
       "    <tr>\n",
       "      <th>0</th>\n",
       "      <td>22-0140612</td>\n",
       "      <td>01/14/2022 04:59:35 PM</td>\n",
       "      <td>LARCENY/THEFT</td>\n",
       "      <td>Buffalo Police are investigating this report o...</td>\n",
       "      <td>Theft</td>\n",
       "      <td>17</td>\n",
       "      <td>FRIDAY</td>\n",
       "      <td>100 Block BECK ST</td>\n",
       "      <td>Buffalo</td>\n",
       "      <td>NY</td>\n",
       "      <td>...</td>\n",
       "      <td>27.03</td>\n",
       "      <td>1012</td>\n",
       "      <td>1</td>\n",
       "      <td>Broadway Fillmore</td>\n",
       "      <td>District C</td>\n",
       "      <td>FILLMORE</td>\n",
       "      <td>002703</td>\n",
       "      <td>36029002703</td>\n",
       "      <td>360290027031</td>\n",
       "      <td>360290027031012</td>\n",
       "    </tr>\n",
       "    <tr>\n",
       "      <th>1</th>\n",
       "      <td>22-0140323</td>\n",
       "      <td>01/14/2022 11:32:00 AM</td>\n",
       "      <td>ASSAULT</td>\n",
       "      <td>Buffalo Police are investigating this report o...</td>\n",
       "      <td>Assault</td>\n",
       "      <td>11</td>\n",
       "      <td>FRIDAY</td>\n",
       "      <td>400 Block NIAGARA ST</td>\n",
       "      <td>Buffalo</td>\n",
       "      <td>NY</td>\n",
       "      <td>...</td>\n",
       "      <td>71.04</td>\n",
       "      <td>1004</td>\n",
       "      <td>1</td>\n",
       "      <td>Lower West Side</td>\n",
       "      <td>District B</td>\n",
       "      <td>ELLICOTT</td>\n",
       "      <td>007104</td>\n",
       "      <td>36029007104</td>\n",
       "      <td>360290071041</td>\n",
       "      <td>360290071041004</td>\n",
       "    </tr>\n",
       "    <tr>\n",
       "      <th>2</th>\n",
       "      <td>22-0140257</td>\n",
       "      <td>01/14/2022 10:35:02 AM</td>\n",
       "      <td>ASSAULT</td>\n",
       "      <td>Buffalo Police are investigating this report o...</td>\n",
       "      <td>Assault</td>\n",
       "      <td>10</td>\n",
       "      <td>FRIDAY</td>\n",
       "      <td>2300 Block SENECA ST</td>\n",
       "      <td>Buffalo</td>\n",
       "      <td>NY</td>\n",
       "      <td>...</td>\n",
       "      <td>10</td>\n",
       "      <td>1004</td>\n",
       "      <td>1</td>\n",
       "      <td>Seneca-Cazenovia</td>\n",
       "      <td>District A</td>\n",
       "      <td>SOUTH</td>\n",
       "      <td>001000</td>\n",
       "      <td>36029001000</td>\n",
       "      <td>360290010001</td>\n",
       "      <td>360290010001004</td>\n",
       "    </tr>\n",
       "    <tr>\n",
       "      <th>3</th>\n",
       "      <td>22-0160894</td>\n",
       "      <td>01/16/2022 11:01:36 PM</td>\n",
       "      <td>ASSAULT</td>\n",
       "      <td>Buffalo Police are investigating this report o...</td>\n",
       "      <td>Assault</td>\n",
       "      <td>23</td>\n",
       "      <td>SUNDAY</td>\n",
       "      <td>0 Block THEODORE ST</td>\n",
       "      <td>Buffalo</td>\n",
       "      <td>NY</td>\n",
       "      <td>...</td>\n",
       "      <td>37</td>\n",
       "      <td>2006</td>\n",
       "      <td>2</td>\n",
       "      <td>Schiller Park</td>\n",
       "      <td>District C</td>\n",
       "      <td>LOVEJOY</td>\n",
       "      <td>003700</td>\n",
       "      <td>36029003700</td>\n",
       "      <td>360290037002</td>\n",
       "      <td>360290037002006</td>\n",
       "    </tr>\n",
       "    <tr>\n",
       "      <th>4</th>\n",
       "      <td>22-0190051</td>\n",
       "      <td>01/19/2022 02:16:00 AM</td>\n",
       "      <td>ROBBERY</td>\n",
       "      <td>Buffalo Police are investigating this report o...</td>\n",
       "      <td>Robbery</td>\n",
       "      <td>2</td>\n",
       "      <td>WEDNESDAY</td>\n",
       "      <td>FULTON ST &amp; CHERRY ST</td>\n",
       "      <td>Buffalo</td>\n",
       "      <td>NY</td>\n",
       "      <td>...</td>\n",
       "      <td>164</td>\n",
       "      <td>1003</td>\n",
       "      <td>1</td>\n",
       "      <td>Ellicott</td>\n",
       "      <td>District A</td>\n",
       "      <td>FILLMORE</td>\n",
       "      <td>016400</td>\n",
       "      <td>36029016400</td>\n",
       "      <td>360290164001</td>\n",
       "      <td>360290164001003</td>\n",
       "    </tr>\n",
       "  </tbody>\n",
       "</table>\n",
       "<p>5 rows × 27 columns</p>\n",
       "</div>"
      ],
      "text/plain": [
       "  Case Number       Incident Datetime Incident Type Primary  \\\n",
       "0  22-0140612  01/14/2022 04:59:35 PM         LARCENY/THEFT   \n",
       "1  22-0140323  01/14/2022 11:32:00 AM               ASSAULT   \n",
       "2  22-0140257  01/14/2022 10:35:02 AM               ASSAULT   \n",
       "3  22-0160894  01/16/2022 11:01:36 PM               ASSAULT   \n",
       "4  22-0190051  01/19/2022 02:16:00 AM               ROBBERY   \n",
       "\n",
       "                                Incident Description Parent Incident Type  \\\n",
       "0  Buffalo Police are investigating this report o...                Theft   \n",
       "1  Buffalo Police are investigating this report o...              Assault   \n",
       "2  Buffalo Police are investigating this report o...              Assault   \n",
       "3  Buffalo Police are investigating this report o...              Assault   \n",
       "4  Buffalo Police are investigating this report o...              Robbery   \n",
       "\n",
       "   Hour of Day Day of Week                Address     City State  ...  \\\n",
       "0           17      FRIDAY      100 Block BECK ST  Buffalo    NY  ...   \n",
       "1           11      FRIDAY   400 Block NIAGARA ST  Buffalo    NY  ...   \n",
       "2           10      FRIDAY   2300 Block SENECA ST  Buffalo    NY  ...   \n",
       "3           23      SUNDAY    0 Block THEODORE ST  Buffalo    NY  ...   \n",
       "4            2   WEDNESDAY  FULTON ST & CHERRY ST  Buffalo    NY  ...   \n",
       "\n",
       "  Census Tract  Census Block  Census Block Group       Neighborhood  \\\n",
       "0        27.03          1012                   1  Broadway Fillmore   \n",
       "1        71.04          1004                   1    Lower West Side   \n",
       "2           10          1004                   1   Seneca-Cazenovia   \n",
       "3           37          2006                   2      Schiller Park   \n",
       "4          164          1003                   1           Ellicott   \n",
       "\n",
       "  Police District Council District TRACTCE20 GEOID20_tract GEOID20_blockgroup  \\\n",
       "0      District C         FILLMORE    002703   36029002703       360290027031   \n",
       "1      District B         ELLICOTT    007104   36029007104       360290071041   \n",
       "2      District A            SOUTH    001000   36029001000       360290010001   \n",
       "3      District C          LOVEJOY    003700   36029003700       360290037002   \n",
       "4      District A         FILLMORE    016400   36029016400       360290164001   \n",
       "\n",
       "     GEOID20_block  \n",
       "0  360290027031012  \n",
       "1  360290071041004  \n",
       "2  360290010001004  \n",
       "3  360290037002006  \n",
       "4  360290164001003  \n",
       "\n",
       "[5 rows x 27 columns]"
      ]
     },
     "execution_count": 7,
     "metadata": {},
     "output_type": "execute_result"
    }
   ],
   "source": [
    "#All the null values are gone and now we can pre process individual column\n",
    "data.head()\n"
   ]
  },
  {
   "cell_type": "code",
   "execution_count": 34,
   "id": "9f2113c6",
   "metadata": {},
   "outputs": [
    {
     "data": {
      "text/plain": [
       "Index(['Case Number', 'Incident Datetime', 'Incident Type Primary',\n",
       "       'Incident Description', 'Parent Incident Type', 'Hour of Day',\n",
       "       'Day of Week', 'Address', 'City', 'State', 'Location', 'Latitude',\n",
       "       'Longitude', 'Created At', '2010 Census Tract ',\n",
       "       '2010 Census Block Group', '2010 Census Block', 'Census Tract',\n",
       "       'Census Block', 'Census Block Group', 'Neighborhood', 'Police District',\n",
       "       'Council District', 'TRACTCE20', 'GEOID20_tract', 'GEOID20_blockgroup',\n",
       "       'GEOID20_block'],\n",
       "      dtype='object')"
      ]
     },
     "execution_count": 34,
     "metadata": {},
     "output_type": "execute_result"
    }
   ],
   "source": [
    "data.columns"
   ]
  },
  {
   "cell_type": "code",
   "execution_count": 8,
   "id": "e60a5fcd",
   "metadata": {},
   "outputs": [
    {
     "data": {
      "text/plain": [
       "Index(['Incident Datetime', 'Incident Type Primary', 'Incident Description',\n",
       "       'Parent Incident Type', 'Hour of Day', 'Day of Week', 'Address', 'City',\n",
       "       'State', 'Location', 'Latitude', 'Longitude', 'Created At',\n",
       "       '2010 Census Tract ', '2010 Census Block Group', '2010 Census Block',\n",
       "       'Census Tract', 'Census Block', 'Census Block Group', 'Neighborhood',\n",
       "       'Police District', 'Council District', 'TRACTCE20', 'GEOID20_tract',\n",
       "       'GEOID20_blockgroup', 'GEOID20_block'],\n",
       "      dtype='object')"
      ]
     },
     "execution_count": 8,
     "metadata": {},
     "output_type": "execute_result"
    }
   ],
   "source": [
    "#Case number is also not useful. So, dropping it\n",
    "data = data.drop(columns = 'Case Number', axis = 1)\n",
    "data.columns"
   ]
  },
  {
   "cell_type": "code",
   "execution_count": 9,
   "id": "92471cf1",
   "metadata": {},
   "outputs": [
    {
     "data": {
      "text/plain": [
       "Buffalo    279142\n",
       "Name: City, dtype: int64"
      ]
     },
     "execution_count": 9,
     "metadata": {},
     "output_type": "execute_result"
    }
   ],
   "source": [
    "data.City = data.City.replace('BUFFALO', 'Buffalo') #Changing the city\n",
    "data.City.value_counts()"
   ]
  },
  {
   "cell_type": "code",
   "execution_count": 10,
   "id": "1875b8f0",
   "metadata": {},
   "outputs": [
    {
     "data": {
      "text/plain": [
       "NY    279142\n",
       "Name: State, dtype: int64"
      ]
     },
     "execution_count": 10,
     "metadata": {},
     "output_type": "execute_result"
    }
   ],
   "source": [
    "data.State.value_counts()"
   ]
  },
  {
   "cell_type": "code",
   "execution_count": 11,
   "id": "c790a1b2",
   "metadata": {},
   "outputs": [
    {
     "data": {
      "text/plain": [
       "ELLICOTT      45330\n",
       "NORTH         36557\n",
       "LOVEJOY       32970\n",
       "UNIVERSITY    32315\n",
       "FILLMORE      31451\n",
       "MASTEN        31113\n",
       "NIAGARA       30442\n",
       "DELAWARE      18534\n",
       "SOUTH         17374\n",
       "Name: Council District, dtype: int64"
      ]
     },
     "execution_count": 11,
     "metadata": {},
     "output_type": "execute_result"
    }
   ],
   "source": [
    "#There are some columns like [Council District, Neighborhood, Police District etc...] which have UNKNOWN as an entry.\n",
    "#As we have a huge dataset dropping those records doesn't make much difference.\n",
    "#Replacing all the UNKNOWN values to null and dropping them all.\n",
    "\n",
    "data = data.replace('UNKNOWN', np.NaN)\n",
    "data = data.dropna()\n",
    "data['Council District'].value_counts()"
   ]
  },
  {
   "cell_type": "code",
   "execution_count": 12,
   "id": "3cd188cc",
   "metadata": {},
   "outputs": [
    {
     "data": {
      "text/plain": [
       "Buffalo Police are investigating this report of a crime.  It is important to note that this is very preliminary information and further investigation as to the facts and circumstances of this report may be necessary.    271159\n",
       "Buffalo Police are investigating this report of a crime. It is important to note that this is very preliminary information and further investigation as to the facts and circumstances of this report may be necessary.       5200\n",
       "LARCENY/THEFT                                                                                                                                                                                                                 2016\n",
       "BURGLARY                                                                                                                                                                                                                      1061\n",
       "ASSAULT                                                                                                                                                                                                                        706\n",
       "SEXUAL ABUSE                                                                                                                                                                                                                   149\n",
       "UUV                                                                                                                                                                                                                            111\n",
       "RAPE                                                                                                                                                                                                                            72\n",
       "ROBBERY                                                                                                                                                                                                                         36\n",
       "CRIM NEGLIGENT HOMICIDE                                                                                                                                                                                                         22\n",
       "THEFT OF SERVICES                                                                                                                                                                                                               12\n",
       "MURDER                                                                                                                                                                                                                           2\n",
       "AGGR ASSAULT                                                                                                                                                                                                                     2\n",
       "AGG ASSAULT ON P/OFFICER                                                                                                                                                                                                         2\n",
       "Name: Incident Description, dtype: int64"
      ]
     },
     "execution_count": 12,
     "metadata": {},
     "output_type": "execute_result"
    }
   ],
   "source": [
    "data['Incident Description'].value_counts()"
   ]
  },
  {
   "cell_type": "code",
   "execution_count": 82,
   "id": "c0756961",
   "metadata": {},
   "outputs": [
    {
     "data": {
      "text/plain": [
       "Theft                   120127\n",
       "Assault                  56818\n",
       "Breaking & Entering      52599\n",
       "Theft of Vehicle         22623\n",
       "Robbery                  17893\n",
       "Sexual Assault            2460\n",
       "Other Sexual Offense      2220\n",
       "Homicide                   947\n",
       "Sexual Offense             399\n",
       "Name: Parent Incident Type, dtype: int64"
      ]
     },
     "execution_count": 82,
     "metadata": {},
     "output_type": "execute_result"
    }
   ],
   "source": [
    "data['Parent Incident Type'].value_counts()"
   ]
  },
  {
   "cell_type": "code",
   "execution_count": 84,
   "id": "80a67d04",
   "metadata": {},
   "outputs": [
    {
     "data": {
      "text/plain": [
       "0     32620\n",
       "12    15885\n",
       "16    13527\n",
       "17    13491\n",
       "20    13120\n",
       "21    12979\n",
       "22    12966\n",
       "18    12942\n",
       "23    12662\n",
       "15    12498\n",
       "19    11695\n",
       "14    11444\n",
       "11    11318\n",
       "13    11117\n",
       "10    10676\n",
       "9     10296\n",
       "1      9691\n",
       "8      9412\n",
       "2      8624\n",
       "3      7469\n",
       "7      6262\n",
       "4      5920\n",
       "6      4898\n",
       "5      4574\n",
       "Name: Hour of Day, dtype: int64"
      ]
     },
     "execution_count": 84,
     "metadata": {},
     "output_type": "execute_result"
    }
   ],
   "source": [
    "data['Hour of Day'].value_counts()"
   ]
  },
  {
   "cell_type": "code",
   "execution_count": 80,
   "id": "6e3c3044",
   "metadata": {},
   "outputs": [
    {
     "data": {
      "text/plain": [
       "Broadway Fillmore     10991\n",
       "Central                9424\n",
       "North Park             5061\n",
       "Genesee-Moselle        5036\n",
       "Schiller Park          4414\n",
       "Kenfield               4165\n",
       "West Side              4126\n",
       "Fillmore-Leroy         3511\n",
       "Allentown              3511\n",
       "Masten Park            3502\n",
       "Elmwood Bidwell        3482\n",
       "University Heights     3416\n",
       "Elmwood Bryant         3319\n",
       "Kensington-Bailey      3245\n",
       "Lower West Side        3075\n",
       "Riverside              2902\n",
       "Hopkins-Tifft          2258\n",
       "Upper West Side        1969\n",
       "MLK Park               1929\n",
       "Fruit Belt             1866\n",
       "Seneca-Cazenovia       1660\n",
       "Lovejoy                1638\n",
       "Delavan Grider         1637\n",
       "Parkside               1625\n",
       "Ellicott               1579\n",
       "South Park             1435\n",
       "Pratt-Willert          1411\n",
       "Kaisertown             1379\n",
       "First Ward             1097\n",
       "Hamlin Park            1055\n",
       "Grant-Amherst           853\n",
       "West Hertel             811\n",
       "Seneca Babcock          770\n",
       "Black Rock              698\n",
       "Central Park            675\n",
       "Name: Neighborhood, dtype: int64"
      ]
     },
     "execution_count": 80,
     "metadata": {},
     "output_type": "execute_result"
    }
   ],
   "source": [
    "data.loc[data['Census Block Group'] == '1', 'Neighborhood'].value_counts()"
   ]
  },
  {
   "cell_type": "code",
   "execution_count": 81,
   "id": "152dc421",
   "metadata": {},
   "outputs": [
    {
     "data": {
      "text/plain": [
       "Central               5508\n",
       "Elmwood Bryant        4563\n",
       "Masten Park           3703\n",
       "University Heights    3539\n",
       "Schiller Park         3520\n",
       "Genesee-Moselle       3293\n",
       "Lower West Side       3218\n",
       "Riverside             3058\n",
       "Kensington-Bailey     2837\n",
       "Elmwood Bidwell       2779\n",
       "Kenfield              2775\n",
       "MLK Park              2771\n",
       "North Park            2612\n",
       "Broadway Fillmore     2507\n",
       "West Side             2381\n",
       "Parkside              2381\n",
       "Delavan Grider        2152\n",
       "Upper West Side       2126\n",
       "Pratt-Willert         2023\n",
       "Hamlin Park           1817\n",
       "Hopkins-Tifft         1722\n",
       "South Park            1417\n",
       "Lovejoy               1378\n",
       "Fillmore-Leroy        1319\n",
       "Black Rock            1214\n",
       "West Hertel           1205\n",
       "Allentown             1114\n",
       "Grant-Amherst          991\n",
       "Seneca-Cazenovia       917\n",
       "Seneca Babcock         883\n",
       "Central Park           873\n",
       "Kaisertown             838\n",
       "Ellicott               811\n",
       "Fruit Belt             623\n",
       "First Ward             537\n",
       "Name: Neighborhood, dtype: int64"
      ]
     },
     "execution_count": 81,
     "metadata": {},
     "output_type": "execute_result"
    }
   ],
   "source": [
    "data.loc[data['Census Block Group'] == '2', 'Neighborhood'].value_counts()"
   ]
  },
  {
   "cell_type": "code",
   "execution_count": 75,
   "id": "621136a7",
   "metadata": {},
   "outputs": [
    {
     "data": {
      "text/plain": [
       "Broadway Fillmore    16006\n",
       "Genesee-Moselle      11111\n",
       "Lovejoy               8017\n",
       "MLK Park              5851\n",
       "Schiller Park         5420\n",
       "Masten Park           3672\n",
       "Fruit Belt             677\n",
       "Ellicott               206\n",
       "Seneca Babcock          27\n",
       "Name: Neighborhood, dtype: int64"
      ]
     },
     "execution_count": 75,
     "metadata": {},
     "output_type": "execute_result"
    }
   ],
   "source": [
    "data.loc[data['Police District'] == 'District C', 'Neighborhood'].value_counts()"
   ]
  },
  {
   "cell_type": "code",
   "execution_count": 76,
   "id": "1fae3d02",
   "metadata": {},
   "outputs": [
    {
     "data": {
      "text/plain": [
       "North Park         13478\n",
       "Elmwood Bidwell    11719\n",
       "Riverside           9215\n",
       "Upper West Side     9032\n",
       "Parkside            5331\n",
       "West Hertel         5201\n",
       "Black Rock          4558\n",
       "Grant-Amherst       4098\n",
       "Central Park        2276\n",
       "Elmwood Bryant        47\n",
       "Name: Neighborhood, dtype: int64"
      ]
     },
     "execution_count": 76,
     "metadata": {},
     "output_type": "execute_result"
    }
   ],
   "source": [
    "data.loc[data['Police District'] == 'District D', 'Neighborhood'].value_counts()"
   ]
  },
  {
   "cell_type": "code",
   "execution_count": 71,
   "id": "2d45ec9c",
   "metadata": {},
   "outputs": [],
   "source": [
    "from pathlib import Path\n",
    "\n",
    "filepath = Path(r'C:\\Users\\91767\\Documents\\Python Scripts\\Data Mining\\Project\\Crime_clean.csv')\n",
    "filepath.parent.mkdir(parents = True, exist_ok = True)\n",
    "data.to_csv(filepath)"
   ]
  },
  {
   "cell_type": "code",
   "execution_count": 1,
   "id": "d80235ec",
   "metadata": {},
   "outputs": [
    {
     "name": "stdout",
     "output_type": "stream",
     "text": [
      "Requirement already satisfied: folium in c:\\users\\91767\\anaconda3\\lib\\site-packages (0.12.1.post1)\n",
      "Requirement already satisfied: branca>=0.3.0 in c:\\users\\91767\\anaconda3\\lib\\site-packages (from folium) (0.5.0)\n",
      "Requirement already satisfied: jinja2>=2.9 in c:\\users\\91767\\anaconda3\\lib\\site-packages (from folium) (2.11.3)\n",
      "Requirement already satisfied: numpy in c:\\users\\91767\\anaconda3\\lib\\site-packages (from folium) (1.20.3)\n",
      "Requirement already satisfied: requests in c:\\users\\91767\\anaconda3\\lib\\site-packages (from folium) (2.26.0)\n",
      "Requirement already satisfied: MarkupSafe>=0.23 in c:\\users\\91767\\anaconda3\\lib\\site-packages (from jinja2>=2.9->folium) (1.1.1)\n",
      "Requirement already satisfied: charset-normalizer~=2.0.0 in c:\\users\\91767\\anaconda3\\lib\\site-packages (from requests->folium) (2.0.4)\n",
      "Requirement already satisfied: urllib3<1.27,>=1.21.1 in c:\\users\\91767\\anaconda3\\lib\\site-packages (from requests->folium) (1.26.7)\n",
      "Requirement already satisfied: certifi>=2017.4.17 in c:\\users\\91767\\anaconda3\\lib\\site-packages (from requests->folium) (2021.10.8)\n",
      "Requirement already satisfied: idna<4,>=2.5 in c:\\users\\91767\\anaconda3\\lib\\site-packages (from requests->folium) (3.2)\n"
     ]
    }
   ],
   "source": [
    "!pip install folium"
   ]
  },
  {
   "cell_type": "code",
   "execution_count": 32,
   "id": "4aa659ca",
   "metadata": {},
   "outputs": [
    {
     "data": {
      "text/plain": [
       "Latitude  Longitude\n",
       "0.000      0.000       1461\n",
       "42.940    -78.816      1024\n",
       "42.918    -78.829      1013\n",
       "42.954    -78.878       921\n",
       "42.955    -78.874       790\n",
       "                       ... \n",
       "42.892    -78.821         1\n",
       "          -78.855         1\n",
       "42.725    -78.837         1\n",
       "42.891    -78.818         1\n",
       "44.315    -85.602         1\n",
       "Length: 8816, dtype: int64"
      ]
     },
     "execution_count": 32,
     "metadata": {},
     "output_type": "execute_result"
    }
   ],
   "source": [
    "geo_locs = pd.DataFrame(data[['Latitude', 'Longitude']])\n",
    "geo_locs.value_counts()"
   ]
  },
  {
   "cell_type": "code",
   "execution_count": 33,
   "id": "e3bc0a4b",
   "metadata": {},
   "outputs": [
    {
     "data": {
      "text/plain": [
       "Latitude  Longitude\n",
       "42.940    -78.816      1024\n",
       "42.918    -78.829      1013\n",
       "42.954    -78.878       921\n",
       "42.955    -78.874       790\n",
       "42.890    -78.882       783\n",
       "                       ... \n",
       "42.901    -78.776         1\n",
       "42.902    -78.808         1\n",
       "42.903    -78.854         1\n",
       "          -78.853         1\n",
       "44.315    -85.602         1\n",
       "Length: 8815, dtype: int64"
      ]
     },
     "execution_count": 33,
     "metadata": {},
     "output_type": "execute_result"
    }
   ],
   "source": [
    "#removing zero values from the location coordinates\n",
    "geo_locs.drop(geo_locs.index[geo_locs['Latitude'] == 0.000], inplace = True)\n",
    "geo_locs.value_counts()"
   ]
  },
  {
   "cell_type": "code",
   "execution_count": 59,
   "id": "994c842d",
   "metadata": {},
   "outputs": [
    {
     "data": {
      "text/plain": [
       "<matplotlib.collections.PathCollection at 0x1ef352e3be0>"
      ]
     },
     "execution_count": 59,
     "metadata": {},
     "output_type": "execute_result"
    },
    {
     "data": {
      "image/png": "[encoded data removed]",
      "text/plain": [
       "<Figure size 432x288 with 1 Axes>"
      ]
     },
     "metadata": {
      "needs_background": "light"
     },
     "output_type": "display_data"
    }
   ],
   "source": [
    "import matplotlib.pyplot as plt\n",
    "plt.scatter(geo_locs['Latitude'], geo_locs['Longitude'])"
   ]
  },
  {
   "cell_type": "code",
   "execution_count": 50,
   "id": "07a9164d",
   "metadata": {},
   "outputs": [
    {
     "data": {
      "image/png": "[encoded data removed]",
      "text/plain": [
       "<Figure size 432x288 with 1 Axes>"
      ]
     },
     "metadata": {
      "needs_background": "light"
     },
     "output_type": "display_data"
    }
   ],
   "source": [
    "#performing elbow method to find the optimum k value to perform kmeans\n",
    "from sklearn.cluster import KMeans\n",
    "inertia_values = []\n",
    "\n",
    "for i in range(1, 11):\n",
    "    km = KMeans(n_clusters = i, init = 'random')\n",
    "    km.fit(geo_locs)\n",
    "    inertia_values.append(km.inertia_)\n",
    "    \n",
    "plt.plot(range(1, 11), inertia_values)\n",
    "plt.xlabel('Number of clusters')\n",
    "plt.ylabel('Values')\n",
    "plt.title('Elbow method to find the optimum k value for KMeans Clustering\\n')\n",
    "plt.show()"
   ]
  },
  {
   "cell_type": "code",
   "execution_count": 51,
   "id": "b16d1717",
   "metadata": {},
   "outputs": [
    {
     "data": {
      "text/plain": [
       "KMeans(n_clusters=6)"
      ]
     },
     "execution_count": 51,
     "metadata": {},
     "output_type": "execute_result"
    }
   ],
   "source": [
    "#lets try with 6 clusters\n",
    "from sklearn.cluster import KMeans\n",
    "km = KMeans(n_clusters = 6)\n",
    "km.fit(geo_locs)"
   ]
  },
  {
   "cell_type": "code",
   "execution_count": 52,
   "id": "4e148482",
   "metadata": {},
   "outputs": [],
   "source": [
    "pred = km.predict(geo_locs)"
   ]
  },
  {
   "cell_type": "code",
   "execution_count": 53,
   "id": "a596406f",
   "metadata": {},
   "outputs": [],
   "source": [
    "cluster_centers = km.cluster_centers_"
   ]
  },
  {
   "cell_type": "code",
   "execution_count": 61,
   "id": "08c8c178",
   "metadata": {},
   "outputs": [
    {
     "data": {
      "text/plain": [
       "<matplotlib.collections.PathCollection at 0x1ef346fa370>"
      ]
     },
     "execution_count": 61,
     "metadata": {},
     "output_type": "execute_result"
    },
    {
     "data": {
      "image/png": "[encoded data removed]",
      "text/plain": [
       "<Figure size 432x288 with 1 Axes>"
      ]
     },
     "metadata": {
      "needs_background": "light"
     },
     "output_type": "display_data"
    }
   ],
   "source": [
    "#plotting results\n",
    "plt.scatter(geo_locs['Latitude'], geo_locs['Longitude'], c=pred)\n",
    "plt.scatter(cluster_centers[:,0], cluster_centers[:,1], c = 'pink')"
   ]
  },
  {
   "cell_type": "code",
   "execution_count": 63,
   "id": "03611ea6",
   "metadata": {},
   "outputs": [
    {
     "data": {
      "text/html": [
       "<div>\n",
       "<style scoped>\n",
       "    .dataframe tbody tr th:only-of-type {\n",
       "        vertical-align: middle;\n",
       "    }\n",
       "\n",
       "    .dataframe tbody tr th {\n",
       "        vertical-align: top;\n",
       "    }\n",
       "\n",
       "    .dataframe thead th {\n",
       "        text-align: right;\n",
       "    }\n",
       "</style>\n",
       "<table border=\"1\" class=\"dataframe\">\n",
       "  <thead>\n",
       "    <tr style=\"text-align: right;\">\n",
       "      <th></th>\n",
       "      <th>data_indexes</th>\n",
       "      <th>lables</th>\n",
       "    </tr>\n",
       "  </thead>\n",
       "  <tbody>\n",
       "    <tr>\n",
       "      <th>0</th>\n",
       "      <td>0</td>\n",
       "      <td>4</td>\n",
       "    </tr>\n",
       "    <tr>\n",
       "      <th>1</th>\n",
       "      <td>1</td>\n",
       "      <td>0</td>\n",
       "    </tr>\n",
       "    <tr>\n",
       "      <th>2</th>\n",
       "      <td>2</td>\n",
       "      <td>4</td>\n",
       "    </tr>\n",
       "    <tr>\n",
       "      <th>3</th>\n",
       "      <td>3</td>\n",
       "      <td>3</td>\n",
       "    </tr>\n",
       "    <tr>\n",
       "      <th>4</th>\n",
       "      <td>4</td>\n",
       "      <td>4</td>\n",
       "    </tr>\n",
       "    <tr>\n",
       "      <th>...</th>\n",
       "      <td>...</td>\n",
       "      <td>...</td>\n",
       "    </tr>\n",
       "    <tr>\n",
       "      <th>277676</th>\n",
       "      <td>280545</td>\n",
       "      <td>3</td>\n",
       "    </tr>\n",
       "    <tr>\n",
       "      <th>277677</th>\n",
       "      <td>280546</td>\n",
       "      <td>0</td>\n",
       "    </tr>\n",
       "    <tr>\n",
       "      <th>277678</th>\n",
       "      <td>280547</td>\n",
       "      <td>4</td>\n",
       "    </tr>\n",
       "    <tr>\n",
       "      <th>277679</th>\n",
       "      <td>280548</td>\n",
       "      <td>3</td>\n",
       "    </tr>\n",
       "    <tr>\n",
       "      <th>277680</th>\n",
       "      <td>280549</td>\n",
       "      <td>0</td>\n",
       "    </tr>\n",
       "  </tbody>\n",
       "</table>\n",
       "<p>277681 rows × 2 columns</p>\n",
       "</div>"
      ],
      "text/plain": [
       "        data_indexes  lables\n",
       "0                  0       4\n",
       "1                  1       0\n",
       "2                  2       4\n",
       "3                  3       3\n",
       "4                  4       4\n",
       "...              ...     ...\n",
       "277676        280545       3\n",
       "277677        280546       0\n",
       "277678        280547       4\n",
       "277679        280548       3\n",
       "277680        280549       0\n",
       "\n",
       "[277681 rows x 2 columns]"
      ]
     },
     "execution_count": 63,
     "metadata": {},
     "output_type": "execute_result"
    }
   ],
   "source": [
    "#seperating each cluster points\n",
    "data.drop(data.index[data['Latitude'] == 0.000], inplace = True)\n",
    "#geo_locs.value_counts()\n",
    "\n",
    "cluster_points = pd.DataFrame()\n",
    "cluster_points['data_indexes'] = data.index.values\n",
    "cluster_points['lables'] = km.labels_\n",
    "cluster_points"
   ]
  },
  {
   "cell_type": "code",
   "execution_count": 209,
   "id": "9f1e0abb",
   "metadata": {},
   "outputs": [],
   "source": [
    "first_cluster = cluster_points[cluster_points.lables == 1]\n",
    "second_cluster = cluster_points[cluster_points.lables == 2]\n",
    "third_cluster = cluster_points[cluster_points.lables == 3]\n",
    "fourth_cluster = cluster_points[cluster_points.lables == 4]\n",
    "fifth_cluster = cluster_points[cluster_points.lables == 5]\n",
    "sixth_cluster = cluster_points[cluster_points.lables == 0]"
   ]
  },
  {
   "cell_type": "code",
   "execution_count": 157,
   "id": "7ebe59a2",
   "metadata": {},
   "outputs": [],
   "source": [
    "first_cluster_incidents = pd.DataFrame(data['Parent Incident Type'][first_cluster.data_indexes])\n",
    "second_cluster_incidents = pd.DataFrame(data['Parent Incident Type'][second_cluster.data_indexes])\n",
    "third_cluster_incidents = pd.DataFrame(data['Parent Incident Type'][third_cluster.data_indexes])\n",
    "fourth_cluster_incidents = pd.DataFrame(data['Parent Incident Type'][fourth_cluster.data_indexes])\n",
    "fifth_cluster_incidents = pd.DataFrame(data['Parent Incident Type'][fifth_cluster.data_indexes])\n",
    "sixth_cluster_incidents = pd.DataFrame(data['Parent Incident Type'][sixth_cluster.data_indexes])\n"
   ]
  },
  {
   "cell_type": "code",
   "execution_count": 158,
   "id": "38cd812b",
   "metadata": {},
   "outputs": [],
   "source": [
    "def get_incident_freqs(df):\n",
    "    typ = np.unique(df)\n",
    "    freqs = []\n",
    "    size = int((np.unique(df)).shape[0])\n",
    "    for i in range(size):\n",
    "        freqs.append(df.pivot_table(columns=['Parent Incident Type'], aggfunc='size')[i])\n",
    "        \n",
    "    inci_freqs = pd.DataFrame()\n",
    "    inci_freqs['Incident Type'] = typ\n",
    "    inci_freqs['Frequency'] = freqs    \n",
    "\n",
    "\n",
    "    return inci_freqs"
   ]
  },
  {
   "cell_type": "code",
   "execution_count": 159,
   "id": "08ac682a",
   "metadata": {},
   "outputs": [],
   "source": [
    "first_cluster_incidents = get_incident_freqs(first_cluster_incidents)\n",
    "second_cluster_incidents = get_incident_freqs(second_cluster_incidents)\n",
    "third_cluster_incidents = get_incident_freqs(third_cluster_incidents)\n",
    "fourth_cluster_incidents = get_incident_freqs(fourth_cluster_incidents)\n",
    "fifth_cluster_incidents = get_incident_freqs(fifth_cluster_incidents)\n",
    "sixth_cluster_incidents = get_incident_freqs(sixth_cluster_incidents)\n"
   ]
  },
  {
   "cell_type": "code",
   "execution_count": 208,
   "id": "a4a71271",
   "metadata": {},
   "outputs": [],
   "source": [
    "def append_lat_lon_inci(df):\n",
    "    lat = np.array(data.loc[df.data_indexes, 'Latitude'])\n",
    "    long = np.array(data.loc[df.data_indexes, 'Longitude'])\n",
    "    inci_type = np.array(data.loc[df.data_indexes, 'Parent Incident Type'])\n",
    "    \n",
    "    df['Latitude'] = lat\n",
    "    df['Longitude'] = long\n",
    "    df['Parent Incident Type'] = inci_type\n",
    "\n",
    "    return df"
   ]
  },
  {
   "cell_type": "code",
   "execution_count": 210,
   "id": "796d551d",
   "metadata": {},
   "outputs": [
    {
     "name": "stderr",
     "output_type": "stream",
     "text": [
      "C:\\Users\\91767\\AppData\\Local\\Temp/ipykernel_12260/165425340.py:6: SettingWithCopyWarning: \n",
      "A value is trying to be set on a copy of a slice from a DataFrame.\n",
      "Try using .loc[row_indexer,col_indexer] = value instead\n",
      "\n",
      "See the caveats in the documentation: https://pandas.pydata.org/pandas-docs/stable/user_guide/indexing.html#returning-a-view-versus-a-copy\n",
      "  df['Latitude'] = lat\n",
      "C:\\Users\\91767\\AppData\\Local\\Temp/ipykernel_12260/165425340.py:7: SettingWithCopyWarning: \n",
      "A value is trying to be set on a copy of a slice from a DataFrame.\n",
      "Try using .loc[row_indexer,col_indexer] = value instead\n",
      "\n",
      "See the caveats in the documentation: https://pandas.pydata.org/pandas-docs/stable/user_guide/indexing.html#returning-a-view-versus-a-copy\n",
      "  df['Longitude'] = long\n",
      "C:\\Users\\91767\\AppData\\Local\\Temp/ipykernel_12260/165425340.py:8: SettingWithCopyWarning: \n",
      "A value is trying to be set on a copy of a slice from a DataFrame.\n",
      "Try using .loc[row_indexer,col_indexer] = value instead\n",
      "\n",
      "See the caveats in the documentation: https://pandas.pydata.org/pandas-docs/stable/user_guide/indexing.html#returning-a-view-versus-a-copy\n",
      "  df['Parent Incident Type'] = inci_type\n"
     ]
    }
   ],
   "source": [
    "first_cluster = append_lat_lon_inci(first_cluster)\n",
    "second_cluster = append_lat_lon_inci(second_cluster)\n",
    "third_cluster = append_lat_lon_inci(third_cluster)\n",
    "fourth_cluster = append_lat_lon_inci(fourth_cluster)\n",
    "fifth_cluster = append_lat_lon_inci(fifth_cluster)\n",
    "sixth_cluster = append_lat_lon_inci(sixth_cluster)"
   ]
  },
  {
   "cell_type": "code",
   "execution_count": 114,
   "id": "1e433f77",
   "metadata": {
    "scrolled": true
   },
   "outputs": [
    {
     "data": {
      "text/plain": [
       "Theft                   120975\n",
       "Assault                  57133\n",
       "Breaking & Entering      52748\n",
       "Theft of Vehicle         22723\n",
       "Robbery                  18033\n",
       "Sexual Assault            2490\n",
       "Other Sexual Offense      2229\n",
       "Homicide                   950\n",
       "Sexual Offense             400\n",
       "Name: Parent Incident Type, dtype: int64"
      ]
     },
     "execution_count": 114,
     "metadata": {},
     "output_type": "execute_result"
    }
   ],
   "source": [
    "data['Parent Incident Type'].value_counts()"
   ]
  },
  {
   "cell_type": "code",
   "execution_count": 196,
   "id": "c75d892d",
   "metadata": {},
   "outputs": [],
   "source": [
    "from pathlib import Path\n",
    "def file_save(df, name):\n",
    "    #path = 'r'+''C:\\Users\\91767\\Documents\\Python Scripts\\Data Mining\\Project\\''\n",
    "    filepath = Path(r'C:\\Users\\91767\\Documents\\Python Scripts\\Data Mining\\Project\\''+name)\n",
    "    filepath.parent.mkdir(parents = True, exist_ok = True)\n",
    "    df.to_csv(filepath)"
   ]
  },
  {
   "cell_type": "code",
   "execution_count": 212,
   "id": "d15a8e07",
   "metadata": {},
   "outputs": [],
   "source": [
    "file_save(first_cluster, 'first_cluster.csv')\n",
    "file_save(second_cluster, 'second_cluster.csv')\n",
    "file_save(third_cluster, 'third_cluster.csv')\n",
    "file_save(fourth_cluster, 'fourth_cluster.csv')\n",
    "file_save(fifth_cluster, 'fifth_cluster.csv')\n",
    "file_save(sixth_cluster, 'sixth_cluster.csv')"
   ]
  },
  {
   "cell_type": "code",
   "execution_count": 199,
   "id": "6e0190e6",
   "metadata": {},
   "outputs": [],
   "source": [
    "file_save(first_cluster_incidents, 'first_cluster_incidents.csv')\n",
    "file_save(second_cluster_incidents, 'second_cluster_incidents.csv')\n",
    "file_save(third_cluster_incidents, 'third_cluster_incidents.csv')\n",
    "file_save(fourth_cluster_incidents, 'fourth_cluster_incidents.csv')\n",
    "file_save(fifth_cluster_incidents, 'fifth_cluster_incidents.csv')\n",
    "file_save(sixth_cluster_incidents, 'sixth_cluster_incidents.csv')"
   ]
  },
  {
   "cell_type": "code",
   "execution_count": 211,
   "id": "246d9b6e",
   "metadata": {},
   "outputs": [
    {
     "data": {
      "text/html": [
       "<div>\n",
       "<style scoped>\n",
       "    .dataframe tbody tr th:only-of-type {\n",
       "        vertical-align: middle;\n",
       "    }\n",
       "\n",
       "    .dataframe tbody tr th {\n",
       "        vertical-align: top;\n",
       "    }\n",
       "\n",
       "    .dataframe thead th {\n",
       "        text-align: right;\n",
       "    }\n",
       "</style>\n",
       "<table border=\"1\" class=\"dataframe\">\n",
       "  <thead>\n",
       "    <tr style=\"text-align: right;\">\n",
       "      <th></th>\n",
       "      <th>data_indexes</th>\n",
       "      <th>lables</th>\n",
       "      <th>Latitude</th>\n",
       "      <th>Longitude</th>\n",
       "      <th>Parent Incident Type</th>\n",
       "    </tr>\n",
       "  </thead>\n",
       "  <tbody>\n",
       "    <tr>\n",
       "      <th>13100</th>\n",
       "      <td>13900</td>\n",
       "      <td>1</td>\n",
       "      <td>34.052</td>\n",
       "      <td>-118.244</td>\n",
       "      <td>Assault</td>\n",
       "    </tr>\n",
       "    <tr>\n",
       "      <th>18564</th>\n",
       "      <td>19401</td>\n",
       "      <td>1</td>\n",
       "      <td>34.052</td>\n",
       "      <td>-118.244</td>\n",
       "      <td>Theft</td>\n",
       "    </tr>\n",
       "    <tr>\n",
       "      <th>32192</th>\n",
       "      <td>33135</td>\n",
       "      <td>1</td>\n",
       "      <td>34.052</td>\n",
       "      <td>-118.244</td>\n",
       "      <td>Theft</td>\n",
       "    </tr>\n",
       "    <tr>\n",
       "      <th>40035</th>\n",
       "      <td>41042</td>\n",
       "      <td>1</td>\n",
       "      <td>34.052</td>\n",
       "      <td>-118.244</td>\n",
       "      <td>Assault</td>\n",
       "    </tr>\n",
       "    <tr>\n",
       "      <th>132884</th>\n",
       "      <td>134582</td>\n",
       "      <td>1</td>\n",
       "      <td>34.052</td>\n",
       "      <td>-118.244</td>\n",
       "      <td>Assault</td>\n",
       "    </tr>\n",
       "    <tr>\n",
       "      <th>173573</th>\n",
       "      <td>175637</td>\n",
       "      <td>1</td>\n",
       "      <td>34.052</td>\n",
       "      <td>-118.244</td>\n",
       "      <td>Theft</td>\n",
       "    </tr>\n",
       "    <tr>\n",
       "      <th>181683</th>\n",
       "      <td>183814</td>\n",
       "      <td>1</td>\n",
       "      <td>40.745</td>\n",
       "      <td>-123.870</td>\n",
       "      <td>Assault</td>\n",
       "    </tr>\n",
       "    <tr>\n",
       "      <th>218681</th>\n",
       "      <td>221093</td>\n",
       "      <td>1</td>\n",
       "      <td>34.052</td>\n",
       "      <td>-118.244</td>\n",
       "      <td>Breaking &amp; Entering</td>\n",
       "    </tr>\n",
       "    <tr>\n",
       "      <th>245524</th>\n",
       "      <td>248157</td>\n",
       "      <td>1</td>\n",
       "      <td>34.052</td>\n",
       "      <td>-118.244</td>\n",
       "      <td>Breaking &amp; Entering</td>\n",
       "    </tr>\n",
       "    <tr>\n",
       "      <th>264487</th>\n",
       "      <td>267260</td>\n",
       "      <td>1</td>\n",
       "      <td>34.044</td>\n",
       "      <td>-118.451</td>\n",
       "      <td>Assault</td>\n",
       "    </tr>\n",
       "  </tbody>\n",
       "</table>\n",
       "</div>"
      ],
      "text/plain": [
       "        data_indexes  lables  Latitude  Longitude Parent Incident Type\n",
       "13100          13900       1    34.052   -118.244              Assault\n",
       "18564          19401       1    34.052   -118.244                Theft\n",
       "32192          33135       1    34.052   -118.244                Theft\n",
       "40035          41042       1    34.052   -118.244              Assault\n",
       "132884        134582       1    34.052   -118.244              Assault\n",
       "173573        175637       1    34.052   -118.244                Theft\n",
       "181683        183814       1    40.745   -123.870              Assault\n",
       "218681        221093       1    34.052   -118.244  Breaking & Entering\n",
       "245524        248157       1    34.052   -118.244  Breaking & Entering\n",
       "264487        267260       1    34.044   -118.451              Assault"
      ]
     },
     "execution_count": 211,
     "metadata": {},
     "output_type": "execute_result"
    }
   ],
   "source": [
    "first_cluster"
   ]
  },
  {
   "cell_type": "code",
   "execution_count": 200,
   "id": "9e7e6cae",
   "metadata": {},
   "outputs": [
    {
     "data": {
      "text/html": [
       "<div>\n",
       "<style scoped>\n",
       "    .dataframe tbody tr th:only-of-type {\n",
       "        vertical-align: middle;\n",
       "    }\n",
       "\n",
       "    .dataframe tbody tr th {\n",
       "        vertical-align: top;\n",
       "    }\n",
       "\n",
       "    .dataframe thead th {\n",
       "        text-align: right;\n",
       "    }\n",
       "</style>\n",
       "<table border=\"1\" class=\"dataframe\">\n",
       "  <thead>\n",
       "    <tr style=\"text-align: right;\">\n",
       "      <th></th>\n",
       "      <th>Incident Type</th>\n",
       "      <th>Frequency</th>\n",
       "    </tr>\n",
       "  </thead>\n",
       "  <tbody>\n",
       "    <tr>\n",
       "      <th>0</th>\n",
       "      <td>Assault</td>\n",
       "      <td>5</td>\n",
       "    </tr>\n",
       "    <tr>\n",
       "      <th>1</th>\n",
       "      <td>Breaking &amp; Entering</td>\n",
       "      <td>2</td>\n",
       "    </tr>\n",
       "    <tr>\n",
       "      <th>2</th>\n",
       "      <td>Theft</td>\n",
       "      <td>3</td>\n",
       "    </tr>\n",
       "  </tbody>\n",
       "</table>\n",
       "</div>"
      ],
      "text/plain": [
       "         Incident Type  Frequency\n",
       "0              Assault          5\n",
       "1  Breaking & Entering          2\n",
       "2                Theft          3"
      ]
     },
     "execution_count": 200,
     "metadata": {},
     "output_type": "execute_result"
    }
   ],
   "source": [
    "first_cluster_incidents"
   ]
  },
  {
   "cell_type": "code",
   "execution_count": 215,
   "id": "c12cd15f",
   "metadata": {
    "scrolled": true
   },
   "outputs": [
    {
     "data": {
      "text/plain": [
       "0    124672\n",
       "3     91769\n",
       "4     61191\n",
       "2        36\n",
       "1        10\n",
       "5         3\n",
       "Name: lables, dtype: int64"
      ]
     },
     "execution_count": 215,
     "metadata": {},
     "output_type": "execute_result"
    }
   ],
   "source": [
    "cluster_points.lables.value_counts()"
   ]
  },
  {
   "cell_type": "code",
   "execution_count": 226,
   "id": "91b0ab9e",
   "metadata": {},
   "outputs": [
    {
     "data": {
      "text/plain": [
       "([<matplotlib.patches.Wedge at 0x1ef35193730>,\n",
       "  <matplotlib.patches.Wedge at 0x1ef35326550>,\n",
       "  <matplotlib.patches.Wedge at 0x1ef35326eb0>],\n",
       " [Text(6.735557395310444e-17, 1.1, 'Assault'),\n",
       "  Text(-0.8899186877588755, -0.6465637858537403, 'Breaking & Entering'),\n",
       "  Text(0.6465638275138399, -0.8899186574910393, 'Theft')],\n",
       " [Text(3.6739403974420595e-17, 0.6, '50.0%'),\n",
       "  Text(-0.48541019332302293, -0.3526711559202219, '20.0%'),\n",
       "  Text(0.3526711786439127, -0.48541017681329407, '30.0%')])"
      ]
     },
     "execution_count": 226,
     "metadata": {},
     "output_type": "execute_result"
    },
    {
     "data": {
      "image/png": "[encoded data removed]",
      "text/plain": [
       "<Figure size 432x288 with 1 Axes>"
      ]
     },
     "metadata": {},
     "output_type": "display_data"
    }
   ],
   "source": [
    "plt.pie(first_cluster_incidents['Frequency'], labels = first_cluster_incidents['Incident Type'], autopct='%1.1f%%')"
   ]
  },
  {
   "cell_type": "code",
   "execution_count": 252,
   "id": "ddc2dca5",
   "metadata": {
    "scrolled": false
   },
   "outputs": [
    {
     "data": {
      "text/plain": [
       "Text(0.5, 1.0, 'Frequency of Primary Incident types in cluster 6')"
      ]
     },
     "execution_count": 252,
     "metadata": {},
     "output_type": "execute_result"
    },
    {
     "data": {
      "image/png": "[encoded data removed]",
      "text/plain": [
       "<Figure size 2160x2160 with 6 Axes>"
      ]
     },
     "metadata": {},
     "output_type": "display_data"
    }
   ],
   "source": [
    "fig, axes = plt.subplots(nrows = 2, ncols = 3, figsize = (30,30))\n",
    "axes[0][0].pie(first_cluster_incidents['Frequency'], labels = first_cluster_incidents['Incident Type'], autopct='%1.1f%%', textprops={'fontsize': 14})\n",
    "axes[0][0].set_title('Frequency of Primary Incident types in cluster 1', fontsize = 22)\n",
    "\n",
    "axes[0][1].pie(second_cluster_incidents['Frequency'], labels = second_cluster_incidents['Incident Type'], autopct='%1.1f%%', textprops={'fontsize': 14})\n",
    "axes[0][1].set_title('Frequency of Primary Incident types in cluster 2', fontsize = 22)\n",
    "\n",
    "axes[0][2].pie(third_cluster_incidents['Frequency'], labels = third_cluster_incidents['Incident Type'], autopct='%1.1f%%', textprops={'fontsize': 14})\n",
    "axes[0][2].set_title('Frequency of Primary Incident types in cluster 3', fontsize = 22)\n",
    "\n",
    "\n",
    "axes[1][0].pie(fourth_cluster_incidents['Frequency'], labels = fourth_cluster_incidents['Incident Type'], autopct='%1.1f%%', textprops={'fontsize': 14})\n",
    "axes[1][0].set_title('Frequency of Primary Incident types in cluster 4', fontsize = 22)\n",
    "\n",
    "\n",
    "axes[1][1].pie(fifth_cluster_incidents['Frequency'], labels = fifth_cluster_incidents['Incident Type'], autopct='%1.1f%%', textprops={'fontsize': 14})\n",
    "axes[1][1].set_title('Frequency of Primary Incident types in cluster 5', fontsize = 22)\n",
    "\n",
    "\n",
    "axes[1][2].pie(sixth_cluster_incidents['Frequency'], labels = sixth_cluster_incidents['Incident Type'], autopct='%1.1f%%', textprops={'fontsize': 14})\n",
    "axes[1][2].set_title('Frequency of Primary Incident types in cluster 6', fontsize = 22)\n"
   ]
  },
  {
   "cell_type": "code",
   "execution_count": 270,
   "id": "23d731bc",
   "metadata": {},
   "outputs": [
    {
     "name": "stderr",
     "output_type": "stream",
     "text": [
      "C:\\Users\\91767\\AppData\\Local\\Temp/ipykernel_12260/1318061195.py:4: UserWarning: FixedFormatter should only be used together with FixedLocator\n",
      "  axes[0][0].set_xticklabels(first_cluster_incidents['Incident Type'], rotation = 60)\n",
      "C:\\Users\\91767\\AppData\\Local\\Temp/ipykernel_12260/1318061195.py:7: UserWarning: FixedFormatter should only be used together with FixedLocator\n",
      "  axes[0][1].set_xticklabels(second_cluster_incidents['Incident Type'], rotation = 60)\n",
      "C:\\Users\\91767\\AppData\\Local\\Temp/ipykernel_12260/1318061195.py:10: UserWarning: FixedFormatter should only be used together with FixedLocator\n",
      "  axes[0][2].set_xticklabels(third_cluster_incidents['Incident Type'], rotation = 60)\n",
      "C:\\Users\\91767\\AppData\\Local\\Temp/ipykernel_12260/1318061195.py:13: UserWarning: FixedFormatter should only be used together with FixedLocator\n",
      "  axes[1][0].set_xticklabels(fourth_cluster_incidents['Incident Type'], rotation = 60)\n",
      "C:\\Users\\91767\\AppData\\Local\\Temp/ipykernel_12260/1318061195.py:16: UserWarning: FixedFormatter should only be used together with FixedLocator\n",
      "  axes[1][1].set_xticklabels(fifth_cluster_incidents['Incident Type'], rotation = 60)\n",
      "C:\\Users\\91767\\AppData\\Local\\Temp/ipykernel_12260/1318061195.py:19: UserWarning: FixedFormatter should only be used together with FixedLocator\n",
      "  axes[1][2].set_xticklabels(sixth_cluster_incidents['Incident Type'], rotation = 60)\n"
     ]
    },
    {
     "data": {
      "text/plain": [
       "[Text(0, 0, 'Assault'),\n",
       " Text(1, 0, 'Breaking & Entering'),\n",
       " Text(2, 0, 'Homicide'),\n",
       " Text(3, 0, 'Other Sexual Offense'),\n",
       " Text(4, 0, 'Robbery'),\n",
       " Text(5, 0, 'Sexual Assault'),\n",
       " Text(6, 0, 'Sexual Offense'),\n",
       " Text(7, 0, 'Theft'),\n",
       " Text(8, 0, 'Theft of Vehicle')]"
      ]
     },
     "execution_count": 270,
     "metadata": {},
     "output_type": "execute_result"
    },
    {
     "data": {
      "image/png": "[encoded data removed]",
      "text/plain": [
       "<Figure size 1440x1440 with 6 Axes>"
      ]
     },
     "metadata": {
      "needs_background": "light"
     },
     "output_type": "display_data"
    }
   ],
   "source": [
    "fig, axes = plt.subplots(nrows = 2, ncols = 3, figsize = (20, 20))\n",
    "\n",
    "axes[0][0].bar(first_cluster_incidents['Incident Type'], first_cluster_incidents['Frequency'])\n",
    "axes[0][0].set_xticklabels(first_cluster_incidents['Incident Type'], rotation = 60)\n",
    "\n",
    "axes[0][1].bar(second_cluster_incidents['Incident Type'], second_cluster_incidents['Frequency'])\n",
    "axes[0][1].set_xticklabels(second_cluster_incidents['Incident Type'], rotation = 60)\n",
    "\n",
    "axes[0][2].bar(third_cluster_incidents['Incident Type'], third_cluster_incidents['Frequency'])\n",
    "axes[0][2].set_xticklabels(third_cluster_incidents['Incident Type'], rotation = 60)\n",
    "\n",
    "axes[1][0].bar(fourth_cluster_incidents['Incident Type'], fourth_cluster_incidents['Frequency'])\n",
    "axes[1][0].set_xticklabels(fourth_cluster_incidents['Incident Type'], rotation = 60)\n",
    "\n",
    "axes[1][1].bar(fifth_cluster_incidents['Incident Type'], fifth_cluster_incidents['Frequency'])\n",
    "axes[1][1].set_xticklabels(fifth_cluster_incidents['Incident Type'], rotation = 60)\n",
    "\n",
    "axes[1][2].bar(sixth_cluster_incidents['Incident Type'], sixth_cluster_incidents['Frequency'])\n",
    "axes[1][2].set_xticklabels(sixth_cluster_incidents['Incident Type'], rotation = 60)\n"
   ]
  },
  {
   "cell_type": "code",
   "execution_count": 254,
   "id": "fb164cd1",
   "metadata": {},
   "outputs": [
    {
     "data": {
      "text/plain": [
       "<BarContainer object of 3 artists>"
      ]
     },
     "execution_count": 254,
     "metadata": {},
     "output_type": "execute_result"
    },
    {
     "data": {
      "image/png": "[encoded data removed]",
      "text/plain": [
       "<Figure size 432x288 with 1 Axes>"
      ]
     },
     "metadata": {
      "needs_background": "light"
     },
     "output_type": "display_data"
    }
   ],
   "source": [
    "plt.bar(first_cluster_incidents['Incident Type'], first_cluster_incidents['Frequency'])"
   ]
  },
  {
   "cell_type": "code",
   "execution_count": 288,
   "id": "33dc39ad",
   "metadata": {},
   "outputs": [
    {
     "data": {
      "text/plain": [
       "UNIVERSITY    32316\n",
       "MASTEN        26349\n",
       "LOVEJOY       19090\n",
       "FILLMORE       6487\n",
       "DELAWARE       6242\n",
       "UNKNOWN         718\n",
       "ELLICOTT        567\n",
       "Name: Council District, dtype: int64"
      ]
     },
     "execution_count": 288,
     "metadata": {},
     "output_type": "execute_result"
    }
   ],
   "source": [
    "data.loc[third_cluster.data_indexes, 'Council District'].value_counts()"
   ]
  },
  {
   "cell_type": "code",
   "execution_count": 280,
   "id": "1acb3c09",
   "metadata": {},
   "outputs": [
    {
     "data": {
      "text/plain": [
       "'Broadway Fillmore'"
      ]
     },
     "execution_count": 280,
     "metadata": {},
     "output_type": "execute_result"
    }
   ],
   "source": [
    "data.loc[0, 'Neighborhood']"
   ]
  },
  {
   "cell_type": "code",
   "execution_count": 287,
   "id": "e5e7b6ed",
   "metadata": {},
   "outputs": [
    {
     "data": {
      "text/plain": [
       "Index(['Case Number', 'Incident Datetime', 'Incident Type Primary',\n",
       "       'Incident Description', 'Parent Incident Type', 'Hour of Day',\n",
       "       'Day of Week', 'Address', 'City', 'State', 'Location', 'Latitude',\n",
       "       'Longitude', 'Created At', '2010 Census Tract ',\n",
       "       '2010 Census Block Group', '2010 Census Block', 'Census Tract',\n",
       "       'Census Block', 'Census Block Group', 'Neighborhood', 'Police District',\n",
       "       'Council District', 'TRACTCE20', 'GEOID20_tract', 'GEOID20_blockgroup',\n",
       "       'GEOID20_block'],\n",
       "      dtype='object')"
      ]
     },
     "execution_count": 287,
     "metadata": {},
     "output_type": "execute_result"
    }
   ],
   "source": [
    "data.columns"
   ]
  },
  {
   "cell_type": "code",
   "execution_count": null,
   "id": "7c9dd969",
   "metadata": {},
   "outputs": [],
   "source": []
  }
 ],
 "metadata": {
  "kernelspec": {
   "display_name": "Python 3 (ipykernel)",
   "language": "python",
   "name": "python3"
  },
  "language_info": {
   "codemirror_mode": {
    "name": "ipython",
    "version": 3
   },
   "file_extension": ".py",
   "mimetype": "text/x-python",
   "name": "python",
   "nbconvert_exporter": "python",
   "pygments_lexer": "ipython3",
   "version": "3.9.7"
  }
 },
 "nbformat": 4,
 "nbformat_minor": 5
}
