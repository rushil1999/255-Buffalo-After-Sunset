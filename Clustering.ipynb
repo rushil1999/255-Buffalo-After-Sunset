{
  "nbformat": 4,
  "nbformat_minor": 0,
  "metadata": {
    "colab": {
      "name": "Clustering.ipynb",
      "provenance": []
    },
    "kernelspec": {
      "name": "python3",
      "display_name": "Python 3"
    },
    "language_info": {
      "name": "python"
    }
  },
  "cells": [
    {
      "cell_type": "code",
      "execution_count": 21,
      "metadata": {
        "id": "1DYDcNiMYnB9"
      },
      "outputs": [],
      "source": [
        "import pandas as pd\n",
        "import matplotlib.pyplot as plt\n",
        "from sklearn.cluster import KMeans\n",
        "from scipy.spatial.distance import cdist"
      ]
    },
    {
      "cell_type": "code",
      "source": [
        "data = pd.read_csv('/content/drive/MyDrive/Academics/255/Project/Clean_Crime_Incidents.csv')\n",
        "data.columns"
      ],
      "metadata": {
        "colab": {
          "base_uri": "https://localhost:8080/"
        },
        "id": "kfATv4RKYuyM",
        "outputId": "76a7967d-1cba-4f91-da7f-04554ae4c30c"
      },
      "execution_count": 18,
      "outputs": [
        {
          "output_type": "execute_result",
          "data": {
            "text/plain": [
              "Index(['Unnamed: 0', 'index', 'Case Number', 'Incident Datetime',\n",
              "       'Incident Type Primary', 'Incident Description', 'Parent Incident Type',\n",
              "       'Hour of Day', 'Day of Week', 'Address', 'Location', 'Latitude',\n",
              "       'Longitude', 'Created At', '2010 Census Tract',\n",
              "       '2010 Census Block Group', '2010 Census Block', 'Census Tract',\n",
              "       'Census Block', 'Census Block Group', 'Neighborhood', 'Police District',\n",
              "       'Council District', 'TRACTCE20', 'GEOID20_tract', 'GEOID20_blockgroup',\n",
              "       'GEOID20_block'],\n",
              "      dtype='object')"
            ]
          },
          "metadata": {},
          "execution_count": 18
        }
      ]
    },
    {
      "cell_type": "code",
      "source": [
        "extracted_data = data[['Hour of Day', 'Census Block Group', 'Parent Incident Type']]\n",
        "extracted_data['Parent Incident Type'].value_counts()"
      ],
      "metadata": {
        "colab": {
          "base_uri": "https://localhost:8080/"
        },
        "id": "0NNBkfKvdIt_",
        "outputId": "04b7a459-4a29-4906-a72b-bc6df21c003a"
      },
      "execution_count": 39,
      "outputs": [
        {
          "output_type": "execute_result",
          "data": {
            "text/plain": [
              "Theft                   120270\n",
              "Assault                  56868\n",
              "Breaking & Entering      52619\n",
              "Theft of Vehicle         22651\n",
              "Robbery                  17925\n",
              "Sexual Assault            2475\n",
              "Other Sexual Offense      2222\n",
              "Homicide                   950\n",
              "Sexual Offense             400\n",
              "Name: Parent Incident Type, dtype: int64"
            ]
          },
          "metadata": {},
          "execution_count": 39
        }
      ]
    },
    {
      "cell_type": "code",
      "source": [
        "plt.scatter(extracted_data['Census Block Group'],extracted_data['Parent Incident Type'])"
      ],
      "metadata": {
        "id": "OwFvi5gsY9hJ",
        "colab": {
          "base_uri": "https://localhost:8080/",
          "height": 282
        },
        "outputId": "d180e542-350a-4fa4-e5c0-e4e1e07c0a5f"
      },
      "execution_count": 20,
      "outputs": [
        {
          "output_type": "execute_result",
          "data": {
            "text/plain": [
              "<matplotlib.collections.PathCollection at 0x7f9e1a60ff50>"
            ]
          },
          "metadata": {},
          "execution_count": 20
        },
        {
          "output_type": "display_data",
          "data": {
            "text/plain": [
              "<Figure size 432x288 with 1 Axes>"
            ],
            "image/png": "[encoded data removed]"
          },
          "metadata": {
            "needs_background": "light"
          }
        }
      ]
    },
    {
      "cell_type": "code",
      "source": [
        "crime_numeric_mapping = {}\n",
        "crime_numeric_mapping['Theft'] = 1\n",
        "crime_numeric_mapping['Assault'] = 2\n",
        "crime_numeric_mapping['Robbery'] = 3\n",
        "crime_numeric_mapping['Theft of Vehicle'] = 4\n",
        "crime_numeric_mapping['Breaking & Entering'] = 5\n",
        "crime_numeric_mapping['Sexual Offense'] = 6\n",
        "crime_numeric_mapping['Homicide'] = 7\n",
        "crime_numeric_mapping['Other Sexual Offense'] = 8\n",
        "crime_numeric_mapping['Sexual Assault'] = 9"
      ],
      "metadata": {
        "id": "u8Enh3SrkUDW"
      },
      "execution_count": 45,
      "outputs": []
    },
    {
      "cell_type": "code",
      "source": [
        "# for i in extracted_data.index:\n",
        "#      if(extracted_data['Parent Incident Type'][i] not in crime_numeric_mapping):\n",
        "#        print(i, extracted_data['Parent Incident Type'][i])\n",
        "\n",
        "# extracted_data['crime_number'] = extracted_data['Parent Incident Type'].map(crime_numeric_mapping)\n",
        "# extracted_data = extracted_data.drop(columns=['Parent Incident Type'])\n",
        "extracted_data"
      ],
      "metadata": {
        "colab": {
          "base_uri": "https://localhost:8080/",
          "height": 424
        },
        "id": "kBgGH7sek1zV",
        "outputId": "7f5f1265-2282-454a-a818-108fcfccfa8a"
      },
      "execution_count": 52,
      "outputs": [
        {
          "output_type": "execute_result",
          "data": {
            "text/plain": [
              "        Hour of Day  Census Block Group  crime_number\n",
              "0                17                   1             1\n",
              "1                11                   1             2\n",
              "2                10                   1             2\n",
              "3                23                   2             2\n",
              "4                 2                   1             3\n",
              "...             ...                 ...           ...\n",
              "276375            0                   1             2\n",
              "276376            9                   1             3\n",
              "276377           16                   4             1\n",
              "276378           18                   2             1\n",
              "276379            6                   2             1\n",
              "\n",
              "[276380 rows x 3 columns]"
            ],
            "text/html": [
              "\n",
              "  <div id=\"df-26da54ae-7d46-400e-b9ce-e77b6d9e3942\">\n",
              "    <div class=\"colab-df-container\">\n",
              "      <div>\n",
              "<style scoped>\n",
              "    .dataframe tbody tr th:only-of-type {\n",
              "        vertical-align: middle;\n",
              "    }\n",
              "\n",
              "    .dataframe tbody tr th {\n",
              "        vertical-align: top;\n",
              "    }\n",
              "\n",
              "    .dataframe thead th {\n",
              "        text-align: right;\n",
              "    }\n",
              "</style>\n",
              "<table border=\"1\" class=\"dataframe\">\n",
              "  <thead>\n",
              "    <tr style=\"text-align: right;\">\n",
              "      <th></th>\n",
              "      <th>Hour of Day</th>\n",
              "      <th>Census Block Group</th>\n",
              "      <th>crime_number</th>\n",
              "    </tr>\n",
              "  </thead>\n",
              "  <tbody>\n",
              "    <tr>\n",
              "      <th>0</th>\n",
              "      <td>17</td>\n",
              "      <td>1</td>\n",
              "      <td>1</td>\n",
              "    </tr>\n",
              "    <tr>\n",
              "      <th>1</th>\n",
              "      <td>11</td>\n",
              "      <td>1</td>\n",
              "      <td>2</td>\n",
              "    </tr>\n",
              "    <tr>\n",
              "      <th>2</th>\n",
              "      <td>10</td>\n",
              "      <td>1</td>\n",
              "      <td>2</td>\n",
              "    </tr>\n",
              "    <tr>\n",
              "      <th>3</th>\n",
              "      <td>23</td>\n",
              "      <td>2</td>\n",
              "      <td>2</td>\n",
              "    </tr>\n",
              "    <tr>\n",
              "      <th>4</th>\n",
              "      <td>2</td>\n",
              "      <td>1</td>\n",
              "      <td>3</td>\n",
              "    </tr>\n",
              "    <tr>\n",
              "      <th>...</th>\n",
              "      <td>...</td>\n",
              "      <td>...</td>\n",
              "      <td>...</td>\n",
              "    </tr>\n",
              "    <tr>\n",
              "      <th>276375</th>\n",
              "      <td>0</td>\n",
              "      <td>1</td>\n",
              "      <td>2</td>\n",
              "    </tr>\n",
              "    <tr>\n",
              "      <th>276376</th>\n",
              "      <td>9</td>\n",
              "      <td>1</td>\n",
              "      <td>3</td>\n",
              "    </tr>\n",
              "    <tr>\n",
              "      <th>276377</th>\n",
              "      <td>16</td>\n",
              "      <td>4</td>\n",
              "      <td>1</td>\n",
              "    </tr>\n",
              "    <tr>\n",
              "      <th>276378</th>\n",
              "      <td>18</td>\n",
              "      <td>2</td>\n",
              "      <td>1</td>\n",
              "    </tr>\n",
              "    <tr>\n",
              "      <th>276379</th>\n",
              "      <td>6</td>\n",
              "      <td>2</td>\n",
              "      <td>1</td>\n",
              "    </tr>\n",
              "  </tbody>\n",
              "</table>\n",
              "<p>276380 rows × 3 columns</p>\n",
              "</div>\n",
              "      <button class=\"colab-df-convert\" onclick=\"convertToInteractive('df-26da54ae-7d46-400e-b9ce-e77b6d9e3942')\"\n",
              "              title=\"Convert this dataframe to an interactive table.\"\n",
              "              style=\"display:none;\">\n",
              "        \n",
              "  <svg xmlns=\"http://www.w3.org/2000/svg\" height=\"24px\"viewBox=\"0 0 24 24\"\n",
              "       width=\"24px\">\n",
              "    <path d=\"M0 0h24v24H0V0z\" fill=\"none\"/>\n",
              "    <path d=\"M18.56 5.44l.94 2.06.94-2.06 2.06-.94-2.06-.94-.94-2.06-.94 2.06-2.06.94zm-11 1L8.5 8.5l.94-2.06 2.06-.94-2.06-.94L8.5 2.5l-.94 2.06-2.06.94zm10 10l.94 2.06.94-2.06 2.06-.94-2.06-.94-.94-2.06-.94 2.06-2.06.94z\"/><path d=\"M17.41 7.96l-1.37-1.37c-.4-.4-.92-.59-1.43-.59-.52 0-1.04.2-1.43.59L10.3 9.45l-7.72 7.72c-.78.78-.78 2.05 0 2.83L4 21.41c.39.39.9.59 1.41.59.51 0 1.02-.2 1.41-.59l7.78-7.78 2.81-2.81c.8-.78.8-2.07 0-2.86zM5.41 20L4 18.59l7.72-7.72 1.47 1.35L5.41 20z\"/>\n",
              "  </svg>\n",
              "      </button>\n",
              "      \n",
              "  <style>\n",
              "    .colab-df-container {\n",
              "      display:flex;\n",
              "      flex-wrap:wrap;\n",
              "      gap: 12px;\n",
              "    }\n",
              "\n",
              "    .colab-df-convert {\n",
              "      background-color: #E8F0FE;\n",
              "      border: none;\n",
              "      border-radius: 50%;\n",
              "      cursor: pointer;\n",
              "      display: none;\n",
              "      fill: #1967D2;\n",
              "      height: 32px;\n",
              "      padding: 0 0 0 0;\n",
              "      width: 32px;\n",
              "    }\n",
              "\n",
              "    .colab-df-convert:hover {\n",
              "      background-color: #E2EBFA;\n",
              "      box-shadow: 0px 1px 2px rgba(60, 64, 67, 0.3), 0px 1px 3px 1px rgba(60, 64, 67, 0.15);\n",
              "      fill: #174EA6;\n",
              "    }\n",
              "\n",
              "    [theme=dark] .colab-df-convert {\n",
              "      background-color: #3B4455;\n",
              "      fill: #D2E3FC;\n",
              "    }\n",
              "\n",
              "    [theme=dark] .colab-df-convert:hover {\n",
              "      background-color: #434B5C;\n",
              "      box-shadow: 0px 1px 3px 1px rgba(0, 0, 0, 0.15);\n",
              "      filter: drop-shadow(0px 1px 2px rgba(0, 0, 0, 0.3));\n",
              "      fill: #FFFFFF;\n",
              "    }\n",
              "  </style>\n",
              "\n",
              "      <script>\n",
              "        const buttonEl =\n",
              "          document.querySelector('#df-26da54ae-7d46-400e-b9ce-e77b6d9e3942 button.colab-df-convert');\n",
              "        buttonEl.style.display =\n",
              "          google.colab.kernel.accessAllowed ? 'block' : 'none';\n",
              "\n",
              "        async function convertToInteractive(key) {\n",
              "          const element = document.querySelector('#df-26da54ae-7d46-400e-b9ce-e77b6d9e3942');\n",
              "          const dataTable =\n",
              "            await google.colab.kernel.invokeFunction('convertToInteractive',\n",
              "                                                     [key], {});\n",
              "          if (!dataTable) return;\n",
              "\n",
              "          const docLinkHtml = 'Like what you see? Visit the ' +\n",
              "            '<a target=\"_blank\" href=https://colab.research.google.com/notebooks/data_table.ipynb>data table notebook</a>'\n",
              "            + ' to learn more about interactive tables.';\n",
              "          element.innerHTML = '';\n",
              "          dataTable['output_type'] = 'display_data';\n",
              "          await google.colab.output.renderOutput(dataTable, element);\n",
              "          const docLink = document.createElement('div');\n",
              "          docLink.innerHTML = docLinkHtml;\n",
              "          element.appendChild(docLink);\n",
              "        }\n",
              "      </script>\n",
              "    </div>\n",
              "  </div>\n",
              "  "
            ]
          },
          "metadata": {},
          "execution_count": 52
        }
      ]
    },
    {
      "cell_type": "code",
      "source": [
        "kmean = KMeans(n_clusters=2)\n",
        "clusters_array = kmean.fit_predict(extracted_data)\n",
        "kmean.cluster_centers_"
      ],
      "metadata": {
        "colab": {
          "base_uri": "https://localhost:8080/"
        },
        "id": "sJxqwK16kGsW",
        "outputId": "67ea6ec5-7065-4acf-e4da-1043419b9279"
      },
      "execution_count": 62,
      "outputs": [
        {
          "output_type": "execute_result",
          "data": {
            "text/plain": [
              "array([[17.022673  ,  2.23016715,  2.41014014,  0.75176681],\n",
              "       [ 4.01898791,  2.23536329,  2.63146801,  1.33183167]])"
            ]
          },
          "metadata": {},
          "execution_count": 62
        }
      ]
    },
    {
      "cell_type": "code",
      "source": [
        "extracted_data['cluster_no'] = clusters_array\n",
        "extracted_data[extracted_data['cluster_no'] == 0]\n",
        "\n",
        "cluster_1_data = extracted_data[extracted_data['cluster_no'] == 0]\n",
        "cluster_2_data = extracted_data[extracted_data['cluster_no'] == 1]\n",
        "cluster_3_data = extracted_data[extracted_data['cluster_no'] == 2]\n",
        "\n",
        "plt.scatter(cluster_1_data['Census Block Group'], cluster_1_data['crime_number'], color = 'r')\n",
        "plt.scatter(cluster_2_data['Census Block Group'], cluster_2_data['crime_number'], color = 'b')\n",
        "plt.scatter(cluster_3_data['Census Block Group'], cluster_3_data['crime_number'], color = 'g')\n",
        "\n",
        "plt.scatter(kmean.cluster_centers_[:,0], kmean.cluster_centers_[:,1], \n",
        "            marker=\"X\", c=\"black\", s=100, label=\"centroids\")\n",
        "plt.show()"
      ],
      "metadata": {
        "colab": {
          "base_uri": "https://localhost:8080/",
          "height": 265
        },
        "id": "pQnfXHD4n9IZ",
        "outputId": "1c07374e-ff76-4ef9-e565-3c408b3640bd"
      },
      "execution_count": 63,
      "outputs": [
        {
          "output_type": "display_data",
          "data": {
            "text/plain": [
              "<Figure size 432x288 with 1 Axes>"
            ],
            "image/png": "[encoded data removed]"
          },
          "metadata": {
            "needs_background": "light"
          }
        }
      ]
    },
    {
      "cell_type": "code",
      "source": [
        "extracted_data['cluster_no'] = clusters_array\n",
        "extracted_data[extracted_data['cluster_no'] == 0]\n",
        "\n",
        "cluster_1_data = extracted_data[extracted_data['cluster_no'] == 0]\n",
        "cluster_2_data = extracted_data[extracted_data['cluster_no'] == 1]\n",
        "cluster_3_data = extracted_data[extracted_data['cluster_no'] == 2]\n",
        "\n",
        "plt.scatter(cluster_1_data['Hour of Day'], cluster_1_data['crime_number'], color = 'r')\n",
        "plt.scatter(cluster_2_data['Hour of Day'], cluster_2_data['crime_number'], color = 'b')\n",
        "plt.scatter(cluster_3_data['Hour of Day'], cluster_3_data['crime_number'], color = 'g')\n",
        "\n",
        "plt.scatter(kmean.cluster_centers_[:,0], kmean.cluster_centers_[:,1], \n",
        "            marker=\"X\", c=\"black\", s=100, label=\"centroids\")\n",
        "plt.show()"
      ],
      "metadata": {
        "colab": {
          "base_uri": "https://localhost:8080/",
          "height": 265
        },
        "id": "N1fBhbsZozmF",
        "outputId": "84bf958b-9861-47f9-b5e1-6234d8c7d1bf"
      },
      "execution_count": 64,
      "outputs": [
        {
          "output_type": "display_data",
          "data": {
            "text/plain": [
              "<Figure size 432x288 with 1 Axes>"
            ],
            "image/png": "[encoded data removed]"
          },
          "metadata": {
            "needs_background": "light"
          }
        }
      ]
    },
    {
      "cell_type": "markdown",
      "source": [
        "Inference: \n",
        "\n",
        "1. Most of the crimes happen in areas having census block group from 1 - 7. These are the areas that people should be aware about. Also the areas having group number after 7 are completey safe. \n",
        "\n",
        "2. More crimes tend to happen after 10 AM in the morning, however, before 10 AM, the crimes are also high."
      ],
      "metadata": {
        "id": "KyMj8kSVoN84"
      }
    },
    {
      "cell_type": "code",
      "source": [
        "dangerous_address = data[data['Census Block Group'] < 8]['Address']\n",
        "dangerous_address"
      ],
      "metadata": {
        "colab": {
          "base_uri": "https://localhost:8080/"
        },
        "id": "C5WhgEfSohCp",
        "outputId": "aa3d4996-a596-4bd3-b916-0234deba1639"
      },
      "execution_count": 60,
      "outputs": [
        {
          "output_type": "execute_result",
          "data": {
            "text/plain": [
              "0               100 Block BECK ST\n",
              "1            400 Block NIAGARA ST\n",
              "2            2300 Block SENECA ST\n",
              "3             0 Block THEODORE ST\n",
              "4           FULTON ST & CHERRY ST\n",
              "                   ...           \n",
              "276375      100 Block SCHUTRUM ST\n",
              "276376      1000 Block ELMWOOD AV\n",
              "276377    1000 Block E LOVEJOY ST\n",
              "276378          0 Block CELTIC PL\n",
              "276379     2000 Block DELAWARE AV\n",
              "Name: Address, Length: 276380, dtype: object"
            ]
          },
          "metadata": {},
          "execution_count": 60
        }
      ]
    }
  ]
}